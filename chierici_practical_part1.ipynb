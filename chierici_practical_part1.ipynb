{
 "cells": [
  {
   "cell_type": "markdown",
   "metadata": {
    "colab_type": "text",
    "id": "TJfNUgelLKKI"
   },
   "source": [
    "# <center>Machine learning from scratch - Part I</center>\n",
    "## <center>WebValley 2019 - AI for Health @ Casez, Italy</center>\n",
    "### <center>Marco Chierici & Margherita Francescatto</center>\n",
    "#### <center>FBK/MPBA</center>"
   ]
  },
  {
   "cell_type": "markdown",
   "metadata": {
    "colab_type": "text",
    "id": "fuVtNnbq1o3z"
   },
   "source": [
    "In this handout we will go through basic concepts of machine learning using scikit-learn and the SEQC neuroblastoma data set [Zhang et al, _Genome Biology_, 2015]."
   ]
  },
  {
   "cell_type": "markdown",
   "metadata": {
    "colab_type": "text",
    "id": "n012d52Z1x2_"
   },
   "source": [
    "In particular, we will focus on **a subset of 272 samples (136 training, 136 test)**, aiming at predicting an **extreme disease outcome** (favorable vs unfavorable samples: see main paper)."
   ]
  },
  {
   "cell_type": "markdown",
   "metadata": {
    "colab_type": "text",
    "id": "nhboH88jk3Wa"
   },
   "source": [
    "The data was preprocessed a bit to facilitate the progress of the tutorial."
   ]
  },
  {
   "cell_type": "markdown",
   "metadata": {
    "colab_type": "text",
    "id": "NXauQAQK16-V"
   },
   "source": [
    "Let's start by loading a few modules that we'll be using later:"
   ]
  },
  {
   "cell_type": "code",
   "execution_count": 1,
   "metadata": {
    "colab": {},
    "colab_type": "code",
    "id": "ww5yKJJpk3Wc"
   },
   "outputs": [],
   "source": [
    "import numpy as np\n",
    "import pandas as pd ## for reading text files and manipulating data frames\n",
    "from sklearn import neighbors ## kNN classifier\n",
    "from bokeh.io import output_notebook, show\n",
    "from bokeh.plotting import figure\n",
    "np.random.seed(42) ## set random seed just in case"
   ]
  },
  {
   "cell_type": "code",
   "execution_count": 2,
   "metadata": {},
   "outputs": [
    {
     "data": {
      "text/html": [
       "\n",
       "    <div class=\"bk-root\">\n",
       "        <a href=\"https://bokeh.pydata.org\" target=\"_blank\" class=\"bk-logo bk-logo-small bk-logo-notebook\"></a>\n",
       "        <span id=\"52087260-467f-4d6b-a799-4d1bf12bb4de\">Loading BokehJS ...</span>\n",
       "    </div>"
      ]
     },
     "metadata": {},
     "output_type": "display_data"
    },
    {
     "data": {
      "application/javascript": [
       "\n",
       "(function(root) {\n",
       "  function now() {\n",
       "    return new Date();\n",
       "  }\n",
       "\n",
       "  var force = true;\n",
       "\n",
       "  if (typeof (root._bokeh_onload_callbacks) === \"undefined\" || force === true) {\n",
       "    root._bokeh_onload_callbacks = [];\n",
       "    root._bokeh_is_loading = undefined;\n",
       "  }\n",
       "\n",
       "  var JS_MIME_TYPE = 'application/javascript';\n",
       "  var HTML_MIME_TYPE = 'text/html';\n",
       "  var EXEC_MIME_TYPE = 'application/vnd.bokehjs_exec.v0+json';\n",
       "  var CLASS_NAME = 'output_bokeh rendered_html';\n",
       "\n",
       "  /**\n",
       "   * Render data to the DOM node\n",
       "   */\n",
       "  function render(props, node) {\n",
       "    var script = document.createElement(\"script\");\n",
       "    node.appendChild(script);\n",
       "  }\n",
       "\n",
       "  /**\n",
       "   * Handle when an output is cleared or removed\n",
       "   */\n",
       "  function handleClearOutput(event, handle) {\n",
       "    var cell = handle.cell;\n",
       "\n",
       "    var id = cell.output_area._bokeh_element_id;\n",
       "    var server_id = cell.output_area._bokeh_server_id;\n",
       "    // Clean up Bokeh references\n",
       "    if (id !== undefined) {\n",
       "      Bokeh.index[id].model.document.clear();\n",
       "      delete Bokeh.index[id];\n",
       "    }\n",
       "\n",
       "    if (server_id !== undefined) {\n",
       "      // Clean up Bokeh references\n",
       "      var cmd = \"from bokeh.io.state import curstate; print(curstate().uuid_to_server['\" + server_id + \"'].get_sessions()[0].document.roots[0]._id)\";\n",
       "      cell.notebook.kernel.execute(cmd, {\n",
       "        iopub: {\n",
       "          output: function(msg) {\n",
       "            var element_id = msg.content.text.trim();\n",
       "            Bokeh.index[element_id].model.document.clear();\n",
       "            delete Bokeh.index[element_id];\n",
       "          }\n",
       "        }\n",
       "      });\n",
       "      // Destroy server and session\n",
       "      var cmd = \"import bokeh.io.notebook as ion; ion.destroy_server('\" + server_id + \"')\";\n",
       "      cell.notebook.kernel.execute(cmd);\n",
       "    }\n",
       "  }\n",
       "\n",
       "  /**\n",
       "   * Handle when a new output is added\n",
       "   */\n",
       "  function handleAddOutput(event, handle) {\n",
       "    var output_area = handle.output_area;\n",
       "    var output = handle.output;\n",
       "\n",
       "    // limit handleAddOutput to display_data with EXEC_MIME_TYPE content only\n",
       "    if ((output.output_type != \"display_data\") || (!output.data.hasOwnProperty(EXEC_MIME_TYPE))) {\n",
       "      return\n",
       "    }\n",
       "\n",
       "    var toinsert = output_area.element.find(\".\" + CLASS_NAME.split(' ')[0]);\n",
       "\n",
       "    if (output.metadata[EXEC_MIME_TYPE][\"id\"] !== undefined) {\n",
       "      toinsert[toinsert.length - 1].firstChild.textContent = output.data[JS_MIME_TYPE];\n",
       "      // store reference to embed id on output_area\n",
       "      output_area._bokeh_element_id = output.metadata[EXEC_MIME_TYPE][\"id\"];\n",
       "    }\n",
       "    if (output.metadata[EXEC_MIME_TYPE][\"server_id\"] !== undefined) {\n",
       "      var bk_div = document.createElement(\"div\");\n",
       "      bk_div.innerHTML = output.data[HTML_MIME_TYPE];\n",
       "      var script_attrs = bk_div.children[0].attributes;\n",
       "      for (var i = 0; i < script_attrs.length; i++) {\n",
       "        toinsert[toinsert.length - 1].firstChild.setAttribute(script_attrs[i].name, script_attrs[i].value);\n",
       "      }\n",
       "      // store reference to server id on output_area\n",
       "      output_area._bokeh_server_id = output.metadata[EXEC_MIME_TYPE][\"server_id\"];\n",
       "    }\n",
       "  }\n",
       "\n",
       "  function register_renderer(events, OutputArea) {\n",
       "\n",
       "    function append_mime(data, metadata, element) {\n",
       "      // create a DOM node to render to\n",
       "      var toinsert = this.create_output_subarea(\n",
       "        metadata,\n",
       "        CLASS_NAME,\n",
       "        EXEC_MIME_TYPE\n",
       "      );\n",
       "      this.keyboard_manager.register_events(toinsert);\n",
       "      // Render to node\n",
       "      var props = {data: data, metadata: metadata[EXEC_MIME_TYPE]};\n",
       "      render(props, toinsert[toinsert.length - 1]);\n",
       "      element.append(toinsert);\n",
       "      return toinsert\n",
       "    }\n",
       "\n",
       "    /* Handle when an output is cleared or removed */\n",
       "    events.on('clear_output.CodeCell', handleClearOutput);\n",
       "    events.on('delete.Cell', handleClearOutput);\n",
       "\n",
       "    /* Handle when a new output is added */\n",
       "    events.on('output_added.OutputArea', handleAddOutput);\n",
       "\n",
       "    /**\n",
       "     * Register the mime type and append_mime function with output_area\n",
       "     */\n",
       "    OutputArea.prototype.register_mime_type(EXEC_MIME_TYPE, append_mime, {\n",
       "      /* Is output safe? */\n",
       "      safe: true,\n",
       "      /* Index of renderer in `output_area.display_order` */\n",
       "      index: 0\n",
       "    });\n",
       "  }\n",
       "\n",
       "  // register the mime type if in Jupyter Notebook environment and previously unregistered\n",
       "  if (root.Jupyter !== undefined) {\n",
       "    var events = require('base/js/events');\n",
       "    var OutputArea = require('notebook/js/outputarea').OutputArea;\n",
       "\n",
       "    if (OutputArea.prototype.mime_types().indexOf(EXEC_MIME_TYPE) == -1) {\n",
       "      register_renderer(events, OutputArea);\n",
       "    }\n",
       "  }\n",
       "\n",
       "  \n",
       "  if (typeof (root._bokeh_timeout) === \"undefined\" || force === true) {\n",
       "    root._bokeh_timeout = Date.now() + 5000;\n",
       "    root._bokeh_failed_load = false;\n",
       "  }\n",
       "\n",
       "  var NB_LOAD_WARNING = {'data': {'text/html':\n",
       "     \"<div style='background-color: #fdd'>\\n\"+\n",
       "     \"<p>\\n\"+\n",
       "     \"BokehJS does not appear to have successfully loaded. If loading BokehJS from CDN, this \\n\"+\n",
       "     \"may be due to a slow or bad network connection. Possible fixes:\\n\"+\n",
       "     \"</p>\\n\"+\n",
       "     \"<ul>\\n\"+\n",
       "     \"<li>re-rerun `output_notebook()` to attempt to load from CDN again, or</li>\\n\"+\n",
       "     \"<li>use INLINE resources instead, as so:</li>\\n\"+\n",
       "     \"</ul>\\n\"+\n",
       "     \"<code>\\n\"+\n",
       "     \"from bokeh.resources import INLINE\\n\"+\n",
       "     \"output_notebook(resources=INLINE)\\n\"+\n",
       "     \"</code>\\n\"+\n",
       "     \"</div>\"}};\n",
       "\n",
       "  function display_loaded() {\n",
       "    var el = document.getElementById(\"52087260-467f-4d6b-a799-4d1bf12bb4de\");\n",
       "    if (el != null) {\n",
       "      el.textContent = \"BokehJS is loading...\";\n",
       "    }\n",
       "    if (root.Bokeh !== undefined) {\n",
       "      if (el != null) {\n",
       "        el.textContent = \"BokehJS \" + root.Bokeh.version + \" successfully loaded.\";\n",
       "      }\n",
       "    } else if (Date.now() < root._bokeh_timeout) {\n",
       "      setTimeout(display_loaded, 100)\n",
       "    }\n",
       "  }\n",
       "\n",
       "\n",
       "  function run_callbacks() {\n",
       "    try {\n",
       "      root._bokeh_onload_callbacks.forEach(function(callback) { callback() });\n",
       "    }\n",
       "    finally {\n",
       "      delete root._bokeh_onload_callbacks\n",
       "    }\n",
       "    console.info(\"Bokeh: all callbacks have finished\");\n",
       "  }\n",
       "\n",
       "  function load_libs(js_urls, callback) {\n",
       "    root._bokeh_onload_callbacks.push(callback);\n",
       "    if (root._bokeh_is_loading > 0) {\n",
       "      console.log(\"Bokeh: BokehJS is being loaded, scheduling callback at\", now());\n",
       "      return null;\n",
       "    }\n",
       "    if (js_urls == null || js_urls.length === 0) {\n",
       "      run_callbacks();\n",
       "      return null;\n",
       "    }\n",
       "    console.log(\"Bokeh: BokehJS not loaded, scheduling load and callback at\", now());\n",
       "    root._bokeh_is_loading = js_urls.length;\n",
       "    for (var i = 0; i < js_urls.length; i++) {\n",
       "      var url = js_urls[i];\n",
       "      var s = document.createElement('script');\n",
       "      s.src = url;\n",
       "      s.async = false;\n",
       "      s.onreadystatechange = s.onload = function() {\n",
       "        root._bokeh_is_loading--;\n",
       "        if (root._bokeh_is_loading === 0) {\n",
       "          console.log(\"Bokeh: all BokehJS libraries loaded\");\n",
       "          run_callbacks()\n",
       "        }\n",
       "      };\n",
       "      s.onerror = function() {\n",
       "        console.warn(\"failed to load library \" + url);\n",
       "      };\n",
       "      console.log(\"Bokeh: injecting script tag for BokehJS library: \", url);\n",
       "      document.getElementsByTagName(\"head\")[0].appendChild(s);\n",
       "    }\n",
       "  };var element = document.getElementById(\"52087260-467f-4d6b-a799-4d1bf12bb4de\");\n",
       "  if (element == null) {\n",
       "    console.log(\"Bokeh: ERROR: autoload.js configured with elementid '52087260-467f-4d6b-a799-4d1bf12bb4de' but no matching script tag was found. \")\n",
       "    return false;\n",
       "  }\n",
       "\n",
       "  var js_urls = [\"https://cdn.pydata.org/bokeh/release/bokeh-0.12.16.min.js\", \"https://cdn.pydata.org/bokeh/release/bokeh-widgets-0.12.16.min.js\", \"https://cdn.pydata.org/bokeh/release/bokeh-tables-0.12.16.min.js\", \"https://cdn.pydata.org/bokeh/release/bokeh-gl-0.12.16.min.js\"];\n",
       "\n",
       "  var inline_js = [\n",
       "    function(Bokeh) {\n",
       "      Bokeh.set_log_level(\"info\");\n",
       "    },\n",
       "    \n",
       "    function(Bokeh) {\n",
       "      \n",
       "    },\n",
       "    function(Bokeh) {\n",
       "      console.log(\"Bokeh: injecting CSS: https://cdn.pydata.org/bokeh/release/bokeh-0.12.16.min.css\");\n",
       "      Bokeh.embed.inject_css(\"https://cdn.pydata.org/bokeh/release/bokeh-0.12.16.min.css\");\n",
       "      console.log(\"Bokeh: injecting CSS: https://cdn.pydata.org/bokeh/release/bokeh-widgets-0.12.16.min.css\");\n",
       "      Bokeh.embed.inject_css(\"https://cdn.pydata.org/bokeh/release/bokeh-widgets-0.12.16.min.css\");\n",
       "      console.log(\"Bokeh: injecting CSS: https://cdn.pydata.org/bokeh/release/bokeh-tables-0.12.16.min.css\");\n",
       "      Bokeh.embed.inject_css(\"https://cdn.pydata.org/bokeh/release/bokeh-tables-0.12.16.min.css\");\n",
       "    }\n",
       "  ];\n",
       "\n",
       "  function run_inline_js() {\n",
       "    \n",
       "    if ((root.Bokeh !== undefined) || (force === true)) {\n",
       "      for (var i = 0; i < inline_js.length; i++) {\n",
       "        inline_js[i].call(root, root.Bokeh);\n",
       "      }if (force === true) {\n",
       "        display_loaded();\n",
       "      }} else if (Date.now() < root._bokeh_timeout) {\n",
       "      setTimeout(run_inline_js, 100);\n",
       "    } else if (!root._bokeh_failed_load) {\n",
       "      console.log(\"Bokeh: BokehJS failed to load within specified timeout.\");\n",
       "      root._bokeh_failed_load = true;\n",
       "    } else if (force !== true) {\n",
       "      var cell = $(document.getElementById(\"52087260-467f-4d6b-a799-4d1bf12bb4de\")).parents('.cell').data().cell;\n",
       "      cell.output_area.append_execute_result(NB_LOAD_WARNING)\n",
       "    }\n",
       "\n",
       "  }\n",
       "\n",
       "  if (root._bokeh_is_loading === 0) {\n",
       "    console.log(\"Bokeh: BokehJS loaded, going straight to plotting\");\n",
       "    run_inline_js();\n",
       "  } else {\n",
       "    load_libs(js_urls, function() {\n",
       "      console.log(\"Bokeh: BokehJS plotting callback run at\", now());\n",
       "      run_inline_js();\n",
       "    });\n",
       "  }\n",
       "}(window));"
      ],
      "application/vnd.bokehjs_load.v0+json": "\n(function(root) {\n  function now() {\n    return new Date();\n  }\n\n  var force = true;\n\n  if (typeof (root._bokeh_onload_callbacks) === \"undefined\" || force === true) {\n    root._bokeh_onload_callbacks = [];\n    root._bokeh_is_loading = undefined;\n  }\n\n  \n\n  \n  if (typeof (root._bokeh_timeout) === \"undefined\" || force === true) {\n    root._bokeh_timeout = Date.now() + 5000;\n    root._bokeh_failed_load = false;\n  }\n\n  var NB_LOAD_WARNING = {'data': {'text/html':\n     \"<div style='background-color: #fdd'>\\n\"+\n     \"<p>\\n\"+\n     \"BokehJS does not appear to have successfully loaded. If loading BokehJS from CDN, this \\n\"+\n     \"may be due to a slow or bad network connection. Possible fixes:\\n\"+\n     \"</p>\\n\"+\n     \"<ul>\\n\"+\n     \"<li>re-rerun `output_notebook()` to attempt to load from CDN again, or</li>\\n\"+\n     \"<li>use INLINE resources instead, as so:</li>\\n\"+\n     \"</ul>\\n\"+\n     \"<code>\\n\"+\n     \"from bokeh.resources import INLINE\\n\"+\n     \"output_notebook(resources=INLINE)\\n\"+\n     \"</code>\\n\"+\n     \"</div>\"}};\n\n  function display_loaded() {\n    var el = document.getElementById(\"52087260-467f-4d6b-a799-4d1bf12bb4de\");\n    if (el != null) {\n      el.textContent = \"BokehJS is loading...\";\n    }\n    if (root.Bokeh !== undefined) {\n      if (el != null) {\n        el.textContent = \"BokehJS \" + root.Bokeh.version + \" successfully loaded.\";\n      }\n    } else if (Date.now() < root._bokeh_timeout) {\n      setTimeout(display_loaded, 100)\n    }\n  }\n\n\n  function run_callbacks() {\n    try {\n      root._bokeh_onload_callbacks.forEach(function(callback) { callback() });\n    }\n    finally {\n      delete root._bokeh_onload_callbacks\n    }\n    console.info(\"Bokeh: all callbacks have finished\");\n  }\n\n  function load_libs(js_urls, callback) {\n    root._bokeh_onload_callbacks.push(callback);\n    if (root._bokeh_is_loading > 0) {\n      console.log(\"Bokeh: BokehJS is being loaded, scheduling callback at\", now());\n      return null;\n    }\n    if (js_urls == null || js_urls.length === 0) {\n      run_callbacks();\n      return null;\n    }\n    console.log(\"Bokeh: BokehJS not loaded, scheduling load and callback at\", now());\n    root._bokeh_is_loading = js_urls.length;\n    for (var i = 0; i < js_urls.length; i++) {\n      var url = js_urls[i];\n      var s = document.createElement('script');\n      s.src = url;\n      s.async = false;\n      s.onreadystatechange = s.onload = function() {\n        root._bokeh_is_loading--;\n        if (root._bokeh_is_loading === 0) {\n          console.log(\"Bokeh: all BokehJS libraries loaded\");\n          run_callbacks()\n        }\n      };\n      s.onerror = function() {\n        console.warn(\"failed to load library \" + url);\n      };\n      console.log(\"Bokeh: injecting script tag for BokehJS library: \", url);\n      document.getElementsByTagName(\"head\")[0].appendChild(s);\n    }\n  };var element = document.getElementById(\"52087260-467f-4d6b-a799-4d1bf12bb4de\");\n  if (element == null) {\n    console.log(\"Bokeh: ERROR: autoload.js configured with elementid '52087260-467f-4d6b-a799-4d1bf12bb4de' but no matching script tag was found. \")\n    return false;\n  }\n\n  var js_urls = [\"https://cdn.pydata.org/bokeh/release/bokeh-0.12.16.min.js\", \"https://cdn.pydata.org/bokeh/release/bokeh-widgets-0.12.16.min.js\", \"https://cdn.pydata.org/bokeh/release/bokeh-tables-0.12.16.min.js\", \"https://cdn.pydata.org/bokeh/release/bokeh-gl-0.12.16.min.js\"];\n\n  var inline_js = [\n    function(Bokeh) {\n      Bokeh.set_log_level(\"info\");\n    },\n    \n    function(Bokeh) {\n      \n    },\n    function(Bokeh) {\n      console.log(\"Bokeh: injecting CSS: https://cdn.pydata.org/bokeh/release/bokeh-0.12.16.min.css\");\n      Bokeh.embed.inject_css(\"https://cdn.pydata.org/bokeh/release/bokeh-0.12.16.min.css\");\n      console.log(\"Bokeh: injecting CSS: https://cdn.pydata.org/bokeh/release/bokeh-widgets-0.12.16.min.css\");\n      Bokeh.embed.inject_css(\"https://cdn.pydata.org/bokeh/release/bokeh-widgets-0.12.16.min.css\");\n      console.log(\"Bokeh: injecting CSS: https://cdn.pydata.org/bokeh/release/bokeh-tables-0.12.16.min.css\");\n      Bokeh.embed.inject_css(\"https://cdn.pydata.org/bokeh/release/bokeh-tables-0.12.16.min.css\");\n    }\n  ];\n\n  function run_inline_js() {\n    \n    if ((root.Bokeh !== undefined) || (force === true)) {\n      for (var i = 0; i < inline_js.length; i++) {\n        inline_js[i].call(root, root.Bokeh);\n      }if (force === true) {\n        display_loaded();\n      }} else if (Date.now() < root._bokeh_timeout) {\n      setTimeout(run_inline_js, 100);\n    } else if (!root._bokeh_failed_load) {\n      console.log(\"Bokeh: BokehJS failed to load within specified timeout.\");\n      root._bokeh_failed_load = true;\n    } else if (force !== true) {\n      var cell = $(document.getElementById(\"52087260-467f-4d6b-a799-4d1bf12bb4de\")).parents('.cell').data().cell;\n      cell.output_area.append_execute_result(NB_LOAD_WARNING)\n    }\n\n  }\n\n  if (root._bokeh_is_loading === 0) {\n    console.log(\"Bokeh: BokehJS loaded, going straight to plotting\");\n    run_inline_js();\n  } else {\n    load_libs(js_urls, function() {\n      console.log(\"Bokeh: BokehJS plotting callback run at\", now());\n      run_inline_js();\n    });\n  }\n}(window));"
     },
     "metadata": {},
     "output_type": "display_data"
    }
   ],
   "source": [
    "output_notebook()"
   ]
  },
  {
   "cell_type": "markdown",
   "metadata": {
    "colab_type": "text",
    "id": "X1JAqMhok3Wf"
   },
   "source": [
    "Define files to read:"
   ]
  },
  {
   "cell_type": "code",
   "execution_count": 3,
   "metadata": {
    "colab": {},
    "colab_type": "code",
    "id": "VjZyyr-EoCQw"
   },
   "outputs": [],
   "source": [
    "##  for convenience, define the data directory as a variable\n",
    "DATA_DIR = \"NB_data/\""
   ]
  },
  {
   "cell_type": "code",
   "execution_count": 4,
   "metadata": {
    "colab": {},
    "colab_type": "code",
    "id": "z35eGqzck3Wg"
   },
   "outputs": [],
   "source": [
    "DATA_TR = DATA_DIR + \"MAV-G_272_tr.txt\"\n",
    "DATA_TS = DATA_DIR + \"MAV-G_272_ts.txt\"\n",
    "LABS_TR = DATA_DIR + \"labels_tr.txt\"\n",
    "LABS_TS = DATA_DIR + \"labels_ts.txt\""
   ]
  },
  {
   "cell_type": "markdown",
   "metadata": {
    "colab_type": "text",
    "id": "kXtrmBhLobSI"
   },
   "source": [
    "Note: there are more sophisticated ways to work with files and paths in Python. Here is one, in case you are curious:"
   ]
  },
  {
   "cell_type": "code",
   "execution_count": 5,
   "metadata": {
    "colab": {},
    "colab_type": "code",
    "id": "z0cLlYgBooVh"
   },
   "outputs": [],
   "source": [
    "## alternative way to define files & paths\n",
    "## this should be preferred, since it is OS-independent\n",
    "import os\n",
    "DATA_TR = os.path.join(DATA_DIR, \"MAV-G_272_tr.txt\")\n",
    "DATA_TS = os.path.join(DATA_DIR, \"MAV-G_272_ts.txt\")\n",
    "LABS_TR = os.path.join(DATA_DIR, \"labels_tr.txt\")\n",
    "LABS_TS = os.path.join(DATA_DIR, \"labels_ts.txt\")"
   ]
  },
  {
   "cell_type": "markdown",
   "metadata": {
    "colab_type": "text",
    "id": "QywnF5Rek3Wj"
   },
   "source": [
    "Read the files in as _pandas dataframes_ (they are conceptually like R data frames):"
   ]
  },
  {
   "cell_type": "code",
   "execution_count": 6,
   "metadata": {
    "colab": {
     "base_uri": "https://localhost:8080/",
     "height": 864
    },
    "colab_type": "code",
    "executionInfo": {
     "elapsed": 1345,
     "status": "error",
     "timestamp": 1554388310330,
     "user": {
      "displayName": "Marco Chierici",
      "photoUrl": "https://lh6.googleusercontent.com/-1LjDBMGAnW8/AAAAAAAAAAI/AAAAAAAACB0/ScmrJqjZC-4/s64/photo.jpg",
      "userId": "06871654247545486268"
     },
     "user_tz": -120
    },
    "id": "cYnTRFVyk3Wk",
    "outputId": "a91effd6-a06f-42b9-8911-0ee006aaa08a"
   },
   "outputs": [],
   "source": [
    "data_tr = pd.read_csv(DATA_TR, sep = \"\\t\")\n",
    "data_ts = pd.read_csv(DATA_TS, sep = \"\\t\")"
   ]
  },
  {
   "cell_type": "markdown",
   "metadata": {
    "colab_type": "text",
    "id": "THEk0UfNqZqZ"
   },
   "source": [
    "The function `read_csv` has a lot more input arguments to deal with different situations.\n",
    "\n",
    "If you want to know more about this or any other Python function, use the `help(function_name)` command:"
   ]
  },
  {
   "cell_type": "code",
   "execution_count": 7,
   "metadata": {
    "colab": {
     "base_uri": "https://localhost:8080/",
     "height": 4712
    },
    "colab_type": "code",
    "executionInfo": {
     "elapsed": 2047,
     "status": "ok",
     "timestamp": 1554369595681,
     "user": {
      "displayName": "Marco Chierici",
      "photoUrl": "https://lh6.googleusercontent.com/-1LjDBMGAnW8/AAAAAAAAAAI/AAAAAAAACB0/ScmrJqjZC-4/s64/photo.jpg",
      "userId": "06871654247545486268"
     },
     "user_tz": -120
    },
    "id": "CoWDeDBl2wHQ",
    "outputId": "5a41d67f-63d7-4365-c170-ee04ef5727c1"
   },
   "outputs": [
    {
     "name": "stdout",
     "output_type": "stream",
     "text": [
      "Help on function read_csv in module pandas.io.parsers:\n",
      "\n",
      "read_csv(filepath_or_buffer, sep=',', delimiter=None, header='infer', names=None, index_col=None, usecols=None, squeeze=False, prefix=None, mangle_dupe_cols=True, dtype=None, engine=None, converters=None, true_values=None, false_values=None, skipinitialspace=False, skiprows=None, nrows=None, na_values=None, keep_default_na=True, na_filter=True, verbose=False, skip_blank_lines=True, parse_dates=False, infer_datetime_format=False, keep_date_col=False, date_parser=None, dayfirst=False, iterator=False, chunksize=None, compression='infer', thousands=None, decimal=b'.', lineterminator=None, quotechar='\"', quoting=0, escapechar=None, comment=None, encoding=None, dialect=None, tupleize_cols=None, error_bad_lines=True, warn_bad_lines=True, skipfooter=0, doublequote=True, delim_whitespace=False, low_memory=True, memory_map=False, float_precision=None)\n",
      "    Read CSV (comma-separated) file into DataFrame\n",
      "    \n",
      "    Also supports optionally iterating or breaking of the file\n",
      "    into chunks.\n",
      "    \n",
      "    Additional help can be found in the `online docs for IO Tools\n",
      "    <http://pandas.pydata.org/pandas-docs/stable/io.html>`_.\n",
      "    \n",
      "    Parameters\n",
      "    ----------\n",
      "    filepath_or_buffer : str, pathlib.Path, py._path.local.LocalPath or any \\\n",
      "    object with a read() method (such as a file handle or StringIO)\n",
      "        The string could be a URL. Valid URL schemes include http, ftp, s3, and\n",
      "        file. For file URLs, a host is expected. For instance, a local file could\n",
      "        be file://localhost/path/to/table.csv\n",
      "    sep : str, default ','\n",
      "        Delimiter to use. If sep is None, the C engine cannot automatically detect\n",
      "        the separator, but the Python parsing engine can, meaning the latter will\n",
      "        be used and automatically detect the separator by Python's builtin sniffer\n",
      "        tool, ``csv.Sniffer``. In addition, separators longer than 1 character and\n",
      "        different from ``'\\s+'`` will be interpreted as regular expressions and\n",
      "        will also force the use of the Python parsing engine. Note that regex\n",
      "        delimiters are prone to ignoring quoted data. Regex example: ``'\\r\\t'``\n",
      "    delimiter : str, default ``None``\n",
      "        Alternative argument name for sep.\n",
      "    delim_whitespace : boolean, default False\n",
      "        Specifies whether or not whitespace (e.g. ``' '`` or ``'\\t'``) will be\n",
      "        used as the sep. Equivalent to setting ``sep='\\s+'``. If this option\n",
      "        is set to True, nothing should be passed in for the ``delimiter``\n",
      "        parameter.\n",
      "    \n",
      "        .. versionadded:: 0.18.1 support for the Python parser.\n",
      "    \n",
      "    header : int or list of ints, default 'infer'\n",
      "        Row number(s) to use as the column names, and the start of the\n",
      "        data.  Default behavior is to infer the column names: if no names\n",
      "        are passed the behavior is identical to ``header=0`` and column\n",
      "        names are inferred from the first line of the file, if column\n",
      "        names are passed explicitly then the behavior is identical to\n",
      "        ``header=None``. Explicitly pass ``header=0`` to be able to\n",
      "        replace existing names. The header can be a list of integers that\n",
      "        specify row locations for a multi-index on the columns\n",
      "        e.g. [0,1,3]. Intervening rows that are not specified will be\n",
      "        skipped (e.g. 2 in this example is skipped). Note that this\n",
      "        parameter ignores commented lines and empty lines if\n",
      "        ``skip_blank_lines=True``, so header=0 denotes the first line of\n",
      "        data rather than the first line of the file.\n",
      "    names : array-like, default None\n",
      "        List of column names to use. If file contains no header row, then you\n",
      "        should explicitly pass header=None. Duplicates in this list will cause\n",
      "        a ``UserWarning`` to be issued.\n",
      "    index_col : int or sequence or False, default None\n",
      "        Column to use as the row labels of the DataFrame. If a sequence is given, a\n",
      "        MultiIndex is used. If you have a malformed file with delimiters at the end\n",
      "        of each line, you might consider index_col=False to force pandas to _not_\n",
      "        use the first column as the index (row names)\n",
      "    usecols : list-like or callable, default None\n",
      "        Return a subset of the columns. If list-like, all elements must either\n",
      "        be positional (i.e. integer indices into the document columns) or strings\n",
      "        that correspond to column names provided either by the user in `names` or\n",
      "        inferred from the document header row(s). For example, a valid list-like\n",
      "        `usecols` parameter would be [0, 1, 2] or ['foo', 'bar', 'baz']. Element\n",
      "        order is ignored, so ``usecols=[0, 1]`` is the same as ``[1, 0]``.\n",
      "        To instantiate a DataFrame from ``data`` with element order preserved use\n",
      "        ``pd.read_csv(data, usecols=['foo', 'bar'])[['foo', 'bar']]`` for columns\n",
      "        in ``['foo', 'bar']`` order or\n",
      "        ``pd.read_csv(data, usecols=['foo', 'bar'])[['bar', 'foo']]``\n",
      "        for ``['bar', 'foo']`` order.\n",
      "    \n",
      "        If callable, the callable function will be evaluated against the column\n",
      "        names, returning names where the callable function evaluates to True. An\n",
      "        example of a valid callable argument would be ``lambda x: x.upper() in\n",
      "        ['AAA', 'BBB', 'DDD']``. Using this parameter results in much faster\n",
      "        parsing time and lower memory usage.\n",
      "    squeeze : boolean, default False\n",
      "        If the parsed data only contains one column then return a Series\n",
      "    prefix : str, default None\n",
      "        Prefix to add to column numbers when no header, e.g. 'X' for X0, X1, ...\n",
      "    mangle_dupe_cols : boolean, default True\n",
      "        Duplicate columns will be specified as 'X', 'X.1', ...'X.N', rather than\n",
      "        'X'...'X'. Passing in False will cause data to be overwritten if there\n",
      "        are duplicate names in the columns.\n",
      "    dtype : Type name or dict of column -> type, default None\n",
      "        Data type for data or columns. E.g. {'a': np.float64, 'b': np.int32}\n",
      "        Use `str` or `object` together with suitable `na_values` settings\n",
      "        to preserve and not interpret dtype.\n",
      "        If converters are specified, they will be applied INSTEAD\n",
      "        of dtype conversion.\n",
      "    engine : {'c', 'python'}, optional\n",
      "        Parser engine to use. The C engine is faster while the python engine is\n",
      "        currently more feature-complete.\n",
      "    converters : dict, default None\n",
      "        Dict of functions for converting values in certain columns. Keys can either\n",
      "        be integers or column labels\n",
      "    true_values : list, default None\n",
      "        Values to consider as True\n",
      "    false_values : list, default None\n",
      "        Values to consider as False\n",
      "    skipinitialspace : boolean, default False\n",
      "        Skip spaces after delimiter.\n",
      "    skiprows : list-like or integer or callable, default None\n",
      "        Line numbers to skip (0-indexed) or number of lines to skip (int)\n",
      "        at the start of the file.\n",
      "    \n",
      "        If callable, the callable function will be evaluated against the row\n",
      "        indices, returning True if the row should be skipped and False otherwise.\n",
      "        An example of a valid callable argument would be ``lambda x: x in [0, 2]``.\n",
      "    skipfooter : int, default 0\n",
      "        Number of lines at bottom of file to skip (Unsupported with engine='c')\n",
      "    nrows : int, default None\n",
      "        Number of rows of file to read. Useful for reading pieces of large files\n",
      "    na_values : scalar, str, list-like, or dict, default None\n",
      "        Additional strings to recognize as NA/NaN. If dict passed, specific\n",
      "        per-column NA values.  By default the following values are interpreted as\n",
      "        NaN: '', '#N/A', '#N/A N/A', '#NA', '-1.#IND', '-1.#QNAN', '-NaN', '-nan',\n",
      "        '1.#IND', '1.#QNAN', 'N/A', 'NA', 'NULL', 'NaN', 'n/a', 'nan',\n",
      "        'null'.\n",
      "    keep_default_na : bool, default True\n",
      "        Whether or not to include the default NaN values when parsing the data.\n",
      "        Depending on whether `na_values` is passed in, the behavior is as follows:\n",
      "    \n",
      "        * If `keep_default_na` is True, and `na_values` are specified, `na_values`\n",
      "          is appended to the default NaN values used for parsing.\n",
      "        * If `keep_default_na` is True, and `na_values` are not specified, only\n",
      "          the default NaN values are used for parsing.\n",
      "        * If `keep_default_na` is False, and `na_values` are specified, only\n",
      "          the NaN values specified `na_values` are used for parsing.\n",
      "        * If `keep_default_na` is False, and `na_values` are not specified, no\n",
      "          strings will be parsed as NaN.\n",
      "    \n",
      "        Note that if `na_filter` is passed in as False, the `keep_default_na` and\n",
      "        `na_values` parameters will be ignored.\n",
      "    na_filter : boolean, default True\n",
      "        Detect missing value markers (empty strings and the value of na_values). In\n",
      "        data without any NAs, passing na_filter=False can improve the performance\n",
      "        of reading a large file\n",
      "    verbose : boolean, default False\n",
      "        Indicate number of NA values placed in non-numeric columns\n",
      "    skip_blank_lines : boolean, default True\n",
      "        If True, skip over blank lines rather than interpreting as NaN values\n",
      "    parse_dates : boolean or list of ints or names or list of lists or dict, default False\n",
      "    \n",
      "        * boolean. If True -> try parsing the index.\n",
      "        * list of ints or names. e.g. If [1, 2, 3] -> try parsing columns 1, 2, 3\n",
      "          each as a separate date column.\n",
      "        * list of lists. e.g.  If [[1, 3]] -> combine columns 1 and 3 and parse as\n",
      "          a single date column.\n",
      "        * dict, e.g. {'foo' : [1, 3]} -> parse columns 1, 3 as date and call result\n",
      "          'foo'\n",
      "    \n",
      "        If a column or index contains an unparseable date, the entire column or\n",
      "        index will be returned unaltered as an object data type. For non-standard\n",
      "        datetime parsing, use ``pd.to_datetime`` after ``pd.read_csv``\n",
      "    \n",
      "        Note: A fast-path exists for iso8601-formatted dates.\n",
      "    infer_datetime_format : boolean, default False\n",
      "        If True and `parse_dates` is enabled, pandas will attempt to infer the\n",
      "        format of the datetime strings in the columns, and if it can be inferred,\n",
      "        switch to a faster method of parsing them. In some cases this can increase\n",
      "        the parsing speed by 5-10x.\n",
      "    keep_date_col : boolean, default False\n",
      "        If True and `parse_dates` specifies combining multiple columns then\n",
      "        keep the original columns.\n",
      "    date_parser : function, default None\n",
      "        Function to use for converting a sequence of string columns to an array of\n",
      "        datetime instances. The default uses ``dateutil.parser.parser`` to do the\n",
      "        conversion. Pandas will try to call `date_parser` in three different ways,\n",
      "        advancing to the next if an exception occurs: 1) Pass one or more arrays\n",
      "        (as defined by `parse_dates`) as arguments; 2) concatenate (row-wise) the\n",
      "        string values from the columns defined by `parse_dates` into a single array\n",
      "        and pass that; and 3) call `date_parser` once for each row using one or\n",
      "        more strings (corresponding to the columns defined by `parse_dates`) as\n",
      "        arguments.\n",
      "    dayfirst : boolean, default False\n",
      "        DD/MM format dates, international and European format\n",
      "    iterator : boolean, default False\n",
      "        Return TextFileReader object for iteration or getting chunks with\n",
      "        ``get_chunk()``.\n",
      "    chunksize : int, default None\n",
      "        Return TextFileReader object for iteration.\n",
      "        See the `IO Tools docs\n",
      "        <http://pandas.pydata.org/pandas-docs/stable/io.html#io-chunking>`_\n",
      "        for more information on ``iterator`` and ``chunksize``.\n",
      "    compression : {'infer', 'gzip', 'bz2', 'zip', 'xz', None}, default 'infer'\n",
      "        For on-the-fly decompression of on-disk data. If 'infer' and\n",
      "        `filepath_or_buffer` is path-like, then detect compression from the\n",
      "        following extensions: '.gz', '.bz2', '.zip', or '.xz' (otherwise no\n",
      "        decompression). If using 'zip', the ZIP file must contain only one data\n",
      "        file to be read in. Set to None for no decompression.\n",
      "    \n",
      "        .. versionadded:: 0.18.1 support for 'zip' and 'xz' compression.\n",
      "    \n",
      "    thousands : str, default None\n",
      "        Thousands separator\n",
      "    decimal : str, default '.'\n",
      "        Character to recognize as decimal point (e.g. use ',' for European data).\n",
      "    float_precision : string, default None\n",
      "        Specifies which converter the C engine should use for floating-point\n",
      "        values. The options are `None` for the ordinary converter,\n",
      "        `high` for the high-precision converter, and `round_trip` for the\n",
      "        round-trip converter.\n",
      "    lineterminator : str (length 1), default None\n",
      "        Character to break file into lines. Only valid with C parser.\n",
      "    quotechar : str (length 1), optional\n",
      "        The character used to denote the start and end of a quoted item. Quoted\n",
      "        items can include the delimiter and it will be ignored.\n",
      "    quoting : int or csv.QUOTE_* instance, default 0\n",
      "        Control field quoting behavior per ``csv.QUOTE_*`` constants. Use one of\n",
      "        QUOTE_MINIMAL (0), QUOTE_ALL (1), QUOTE_NONNUMERIC (2) or QUOTE_NONE (3).\n",
      "    doublequote : boolean, default ``True``\n",
      "       When quotechar is specified and quoting is not ``QUOTE_NONE``, indicate\n",
      "       whether or not to interpret two consecutive quotechar elements INSIDE a\n",
      "       field as a single ``quotechar`` element.\n",
      "    escapechar : str (length 1), default None\n",
      "        One-character string used to escape delimiter when quoting is QUOTE_NONE.\n",
      "    comment : str, default None\n",
      "        Indicates remainder of line should not be parsed. If found at the beginning\n",
      "        of a line, the line will be ignored altogether. This parameter must be a\n",
      "        single character. Like empty lines (as long as ``skip_blank_lines=True``),\n",
      "        fully commented lines are ignored by the parameter `header` but not by\n",
      "        `skiprows`. For example, if ``comment='#'``, parsing\n",
      "        ``#empty\\na,b,c\\n1,2,3`` with ``header=0`` will result in 'a,b,c' being\n",
      "        treated as the header.\n",
      "    encoding : str, default None\n",
      "        Encoding to use for UTF when reading/writing (ex. 'utf-8'). `List of Python\n",
      "        standard encodings\n",
      "        <https://docs.python.org/3/library/codecs.html#standard-encodings>`_\n",
      "    dialect : str or csv.Dialect instance, default None\n",
      "        If provided, this parameter will override values (default or not) for the\n",
      "        following parameters: `delimiter`, `doublequote`, `escapechar`,\n",
      "        `skipinitialspace`, `quotechar`, and `quoting`. If it is necessary to\n",
      "        override values, a ParserWarning will be issued. See csv.Dialect\n",
      "        documentation for more details.\n",
      "    tupleize_cols : boolean, default False\n",
      "        .. deprecated:: 0.21.0\n",
      "           This argument will be removed and will always convert to MultiIndex\n",
      "    \n",
      "        Leave a list of tuples on columns as is (default is to convert to\n",
      "        a MultiIndex on the columns)\n",
      "    error_bad_lines : boolean, default True\n",
      "        Lines with too many fields (e.g. a csv line with too many commas) will by\n",
      "        default cause an exception to be raised, and no DataFrame will be returned.\n",
      "        If False, then these \"bad lines\" will dropped from the DataFrame that is\n",
      "        returned.\n",
      "    warn_bad_lines : boolean, default True\n",
      "        If error_bad_lines is False, and warn_bad_lines is True, a warning for each\n",
      "        \"bad line\" will be output.\n",
      "    low_memory : boolean, default True\n",
      "        Internally process the file in chunks, resulting in lower memory use\n",
      "        while parsing, but possibly mixed type inference.  To ensure no mixed\n",
      "        types either set False, or specify the type with the `dtype` parameter.\n",
      "        Note that the entire file is read into a single DataFrame regardless,\n",
      "        use the `chunksize` or `iterator` parameter to return the data in chunks.\n",
      "        (Only valid with C parser)\n",
      "    memory_map : boolean, default False\n",
      "        If a filepath is provided for `filepath_or_buffer`, map the file object\n",
      "        directly onto memory and access the data directly from there. Using this\n",
      "        option can improve performance because there is no longer any I/O overhead.\n",
      "    \n",
      "    Returns\n",
      "    -------\n",
      "    result : DataFrame or TextParser\n",
      "\n"
     ]
    }
   ],
   "source": [
    "help(pd.read_csv)"
   ]
  },
  {
   "cell_type": "markdown",
   "metadata": {
    "colab_type": "text",
    "id": "UnTyIsHRk3Wm"
   },
   "source": [
    "Give a look at what we have here, start with getting the dimensions of what we just uploaded:"
   ]
  },
  {
   "cell_type": "code",
   "execution_count": 8,
   "metadata": {
    "colab": {},
    "colab_type": "code",
    "id": "2iltS1Q-k3Wn",
    "outputId": "ea81462d-8a49-406b-c933-182c49379053"
   },
   "outputs": [
    {
     "data": {
      "text/plain": [
       "(136, 52230)"
      ]
     },
     "execution_count": 8,
     "metadata": {},
     "output_type": "execute_result"
    }
   ],
   "source": [
    "data_tr.shape"
   ]
  },
  {
   "cell_type": "markdown",
   "metadata": {
    "colab_type": "text",
    "id": "_kRnmCcI2Wo4"
   },
   "source": [
    "What's inside?\n",
    "\n",
    "A peek at the first rows reveals that the first column (the dataframe index) contains the sample IDs, and the remaining columns are genes:"
   ]
  },
  {
   "cell_type": "code",
   "execution_count": 9,
   "metadata": {
    "colab": {},
    "colab_type": "code",
    "id": "TVfPwU6-k3Wt",
    "outputId": "884dd460-6c53-4bf4-9c37-f7c7299b37a2"
   },
   "outputs": [
    {
     "data": {
      "text/html": [
       "<div>\n",
       "<style scoped>\n",
       "    .dataframe tbody tr th:only-of-type {\n",
       "        vertical-align: middle;\n",
       "    }\n",
       "\n",
       "    .dataframe tbody tr th {\n",
       "        vertical-align: top;\n",
       "    }\n",
       "\n",
       "    .dataframe thead th {\n",
       "        text-align: right;\n",
       "    }\n",
       "</style>\n",
       "<table border=\"1\" class=\"dataframe\">\n",
       "  <thead>\n",
       "    <tr style=\"text-align: right;\">\n",
       "      <th></th>\n",
       "      <th>sampleID</th>\n",
       "      <th>ALB.Gene_AceView</th>\n",
       "      <th>CD24L4.1.Gene_AceView</th>\n",
       "      <th>RPS11.Gene_RefSeq</th>\n",
       "      <th>RPS18.Gene_AceView</th>\n",
       "      <th>C5orf13.Gene_AceView</th>\n",
       "      <th>CCT2.Gene_AceView</th>\n",
       "      <th>COL1A1.Gene_AceView</th>\n",
       "      <th>DDX1.Gene_AceView</th>\n",
       "      <th>EEF1A1.Gene_AceView</th>\n",
       "      <th>...</th>\n",
       "      <th>zawskaw.Gene_AceView</th>\n",
       "      <th>zeedor.Gene_AceView</th>\n",
       "      <th>zergor.Gene_AceView</th>\n",
       "      <th>zorsa.Gene_AceView</th>\n",
       "      <th>zoychabu.Gene_AceView</th>\n",
       "      <th>zoysteeby.Gene_AceView</th>\n",
       "      <th>zudee.Gene_AceView</th>\n",
       "      <th>zureyby.Gene_AceView</th>\n",
       "      <th>zuswoybu.Gene_AceView</th>\n",
       "      <th>zyjee.Gene_AceView</th>\n",
       "    </tr>\n",
       "  </thead>\n",
       "  <tbody>\n",
       "    <tr>\n",
       "      <th>0</th>\n",
       "      <td>SEQC_NB001</td>\n",
       "      <td>9.29</td>\n",
       "      <td>18.82</td>\n",
       "      <td>21.17</td>\n",
       "      <td>20.90</td>\n",
       "      <td>20.02</td>\n",
       "      <td>16.31</td>\n",
       "      <td>18.60</td>\n",
       "      <td>15.73</td>\n",
       "      <td>21.71</td>\n",
       "      <td>...</td>\n",
       "      <td>0.0</td>\n",
       "      <td>0.00</td>\n",
       "      <td>0.0</td>\n",
       "      <td>0.00</td>\n",
       "      <td>0.0</td>\n",
       "      <td>0.0</td>\n",
       "      <td>0.00</td>\n",
       "      <td>0.0</td>\n",
       "      <td>0.0</td>\n",
       "      <td>0.0</td>\n",
       "    </tr>\n",
       "    <tr>\n",
       "      <th>1</th>\n",
       "      <td>SEQC_NB003</td>\n",
       "      <td>9.25</td>\n",
       "      <td>20.25</td>\n",
       "      <td>22.44</td>\n",
       "      <td>22.00</td>\n",
       "      <td>21.05</td>\n",
       "      <td>17.06</td>\n",
       "      <td>19.39</td>\n",
       "      <td>22.84</td>\n",
       "      <td>22.72</td>\n",
       "      <td>...</td>\n",
       "      <td>0.0</td>\n",
       "      <td>5.54</td>\n",
       "      <td>0.0</td>\n",
       "      <td>3.39</td>\n",
       "      <td>0.0</td>\n",
       "      <td>0.0</td>\n",
       "      <td>5.45</td>\n",
       "      <td>0.0</td>\n",
       "      <td>0.0</td>\n",
       "      <td>0.0</td>\n",
       "    </tr>\n",
       "    <tr>\n",
       "      <th>2</th>\n",
       "      <td>SEQC_NB005</td>\n",
       "      <td>8.99</td>\n",
       "      <td>20.09</td>\n",
       "      <td>22.09</td>\n",
       "      <td>21.71</td>\n",
       "      <td>21.65</td>\n",
       "      <td>16.85</td>\n",
       "      <td>23.02</td>\n",
       "      <td>15.79</td>\n",
       "      <td>22.24</td>\n",
       "      <td>...</td>\n",
       "      <td>0.0</td>\n",
       "      <td>0.00</td>\n",
       "      <td>0.0</td>\n",
       "      <td>3.75</td>\n",
       "      <td>0.0</td>\n",
       "      <td>0.0</td>\n",
       "      <td>0.00</td>\n",
       "      <td>0.0</td>\n",
       "      <td>0.0</td>\n",
       "      <td>0.0</td>\n",
       "    </tr>\n",
       "    <tr>\n",
       "      <th>3</th>\n",
       "      <td>SEQC_NB011</td>\n",
       "      <td>7.32</td>\n",
       "      <td>19.82</td>\n",
       "      <td>20.52</td>\n",
       "      <td>20.90</td>\n",
       "      <td>21.58</td>\n",
       "      <td>16.49</td>\n",
       "      <td>18.91</td>\n",
       "      <td>15.45</td>\n",
       "      <td>22.06</td>\n",
       "      <td>...</td>\n",
       "      <td>0.0</td>\n",
       "      <td>0.00</td>\n",
       "      <td>0.0</td>\n",
       "      <td>0.00</td>\n",
       "      <td>0.0</td>\n",
       "      <td>0.0</td>\n",
       "      <td>0.00</td>\n",
       "      <td>0.0</td>\n",
       "      <td>0.0</td>\n",
       "      <td>0.0</td>\n",
       "    </tr>\n",
       "    <tr>\n",
       "      <th>4</th>\n",
       "      <td>SEQC_NB013</td>\n",
       "      <td>10.56</td>\n",
       "      <td>21.19</td>\n",
       "      <td>20.69</td>\n",
       "      <td>21.29</td>\n",
       "      <td>20.28</td>\n",
       "      <td>16.22</td>\n",
       "      <td>17.15</td>\n",
       "      <td>16.01</td>\n",
       "      <td>21.84</td>\n",
       "      <td>...</td>\n",
       "      <td>0.0</td>\n",
       "      <td>0.00</td>\n",
       "      <td>0.0</td>\n",
       "      <td>5.20</td>\n",
       "      <td>0.0</td>\n",
       "      <td>0.0</td>\n",
       "      <td>0.00</td>\n",
       "      <td>0.0</td>\n",
       "      <td>0.0</td>\n",
       "      <td>0.0</td>\n",
       "    </tr>\n",
       "  </tbody>\n",
       "</table>\n",
       "<p>5 rows × 52230 columns</p>\n",
       "</div>"
      ],
      "text/plain": [
       "     sampleID  ALB.Gene_AceView  CD24L4.1.Gene_AceView  RPS11.Gene_RefSeq  \\\n",
       "0  SEQC_NB001              9.29                  18.82              21.17   \n",
       "1  SEQC_NB003              9.25                  20.25              22.44   \n",
       "2  SEQC_NB005              8.99                  20.09              22.09   \n",
       "3  SEQC_NB011              7.32                  19.82              20.52   \n",
       "4  SEQC_NB013             10.56                  21.19              20.69   \n",
       "\n",
       "   RPS18.Gene_AceView  C5orf13.Gene_AceView  CCT2.Gene_AceView  \\\n",
       "0               20.90                 20.02              16.31   \n",
       "1               22.00                 21.05              17.06   \n",
       "2               21.71                 21.65              16.85   \n",
       "3               20.90                 21.58              16.49   \n",
       "4               21.29                 20.28              16.22   \n",
       "\n",
       "   COL1A1.Gene_AceView  DDX1.Gene_AceView  EEF1A1.Gene_AceView  \\\n",
       "0                18.60              15.73                21.71   \n",
       "1                19.39              22.84                22.72   \n",
       "2                23.02              15.79                22.24   \n",
       "3                18.91              15.45                22.06   \n",
       "4                17.15              16.01                21.84   \n",
       "\n",
       "          ...          zawskaw.Gene_AceView  zeedor.Gene_AceView  \\\n",
       "0         ...                           0.0                 0.00   \n",
       "1         ...                           0.0                 5.54   \n",
       "2         ...                           0.0                 0.00   \n",
       "3         ...                           0.0                 0.00   \n",
       "4         ...                           0.0                 0.00   \n",
       "\n",
       "   zergor.Gene_AceView  zorsa.Gene_AceView  zoychabu.Gene_AceView  \\\n",
       "0                  0.0                0.00                    0.0   \n",
       "1                  0.0                3.39                    0.0   \n",
       "2                  0.0                3.75                    0.0   \n",
       "3                  0.0                0.00                    0.0   \n",
       "4                  0.0                5.20                    0.0   \n",
       "\n",
       "   zoysteeby.Gene_AceView  zudee.Gene_AceView  zureyby.Gene_AceView  \\\n",
       "0                     0.0                0.00                   0.0   \n",
       "1                     0.0                5.45                   0.0   \n",
       "2                     0.0                0.00                   0.0   \n",
       "3                     0.0                0.00                   0.0   \n",
       "4                     0.0                0.00                   0.0   \n",
       "\n",
       "   zuswoybu.Gene_AceView  zyjee.Gene_AceView  \n",
       "0                    0.0                 0.0  \n",
       "1                    0.0                 0.0  \n",
       "2                    0.0                 0.0  \n",
       "3                    0.0                 0.0  \n",
       "4                    0.0                 0.0  \n",
       "\n",
       "[5 rows x 52230 columns]"
      ]
     },
     "execution_count": 9,
     "metadata": {},
     "output_type": "execute_result"
    }
   ],
   "source": [
    "data_tr.head()"
   ]
  },
  {
   "cell_type": "markdown",
   "metadata": {
    "colab_type": "text",
    "id": "-Q-p18V3k3Ww"
   },
   "source": [
    "Drop the first column from the train and test expression sets, since it's just the sample IDs (we put them in to be able to check whether samples and labels match, but once we are sure of what we are doing we don't really need them anymore)."
   ]
  },
  {
   "cell_type": "code",
   "execution_count": 10,
   "metadata": {
    "colab": {},
    "colab_type": "code",
    "id": "F1bUOeE4k3Wx"
   },
   "outputs": [],
   "source": [
    "data_tr = data_tr.drop('sampleID', axis=1)\n",
    "data_ts = data_ts.drop('sampleID', axis=1)"
   ]
  },
  {
   "cell_type": "markdown",
   "metadata": {
    "colab_type": "text",
    "id": "WA_GLQAWk3W0"
   },
   "source": [
    "Check what happened"
   ]
  },
  {
   "cell_type": "code",
   "execution_count": 11,
   "metadata": {
    "colab": {},
    "colab_type": "code",
    "id": "QgcQgBVek3W1",
    "outputId": "6cbec2e0-0001-4e03-c040-0bbddd51db5b"
   },
   "outputs": [
    {
     "data": {
      "text/html": [
       "<div>\n",
       "<style scoped>\n",
       "    .dataframe tbody tr th:only-of-type {\n",
       "        vertical-align: middle;\n",
       "    }\n",
       "\n",
       "    .dataframe tbody tr th {\n",
       "        vertical-align: top;\n",
       "    }\n",
       "\n",
       "    .dataframe thead th {\n",
       "        text-align: right;\n",
       "    }\n",
       "</style>\n",
       "<table border=\"1\" class=\"dataframe\">\n",
       "  <thead>\n",
       "    <tr style=\"text-align: right;\">\n",
       "      <th></th>\n",
       "      <th>ALB.Gene_AceView</th>\n",
       "      <th>CD24L4.1.Gene_AceView</th>\n",
       "      <th>RPS11.Gene_RefSeq</th>\n",
       "      <th>RPS18.Gene_AceView</th>\n",
       "      <th>C5orf13.Gene_AceView</th>\n",
       "      <th>CCT2.Gene_AceView</th>\n",
       "      <th>COL1A1.Gene_AceView</th>\n",
       "      <th>DDX1.Gene_AceView</th>\n",
       "      <th>EEF1A1.Gene_AceView</th>\n",
       "      <th>FLT3LG_.Gene_AceView</th>\n",
       "      <th>...</th>\n",
       "      <th>zawskaw.Gene_AceView</th>\n",
       "      <th>zeedor.Gene_AceView</th>\n",
       "      <th>zergor.Gene_AceView</th>\n",
       "      <th>zorsa.Gene_AceView</th>\n",
       "      <th>zoychabu.Gene_AceView</th>\n",
       "      <th>zoysteeby.Gene_AceView</th>\n",
       "      <th>zudee.Gene_AceView</th>\n",
       "      <th>zureyby.Gene_AceView</th>\n",
       "      <th>zuswoybu.Gene_AceView</th>\n",
       "      <th>zyjee.Gene_AceView</th>\n",
       "    </tr>\n",
       "  </thead>\n",
       "  <tbody>\n",
       "    <tr>\n",
       "      <th>0</th>\n",
       "      <td>9.29</td>\n",
       "      <td>18.82</td>\n",
       "      <td>21.17</td>\n",
       "      <td>20.90</td>\n",
       "      <td>20.02</td>\n",
       "      <td>16.31</td>\n",
       "      <td>18.60</td>\n",
       "      <td>15.73</td>\n",
       "      <td>21.71</td>\n",
       "      <td>20.02</td>\n",
       "      <td>...</td>\n",
       "      <td>0.0</td>\n",
       "      <td>0.00</td>\n",
       "      <td>0.0</td>\n",
       "      <td>0.00</td>\n",
       "      <td>0.0</td>\n",
       "      <td>0.0</td>\n",
       "      <td>0.00</td>\n",
       "      <td>0.0</td>\n",
       "      <td>0.0</td>\n",
       "      <td>0.0</td>\n",
       "    </tr>\n",
       "    <tr>\n",
       "      <th>1</th>\n",
       "      <td>9.25</td>\n",
       "      <td>20.25</td>\n",
       "      <td>22.44</td>\n",
       "      <td>22.00</td>\n",
       "      <td>21.05</td>\n",
       "      <td>17.06</td>\n",
       "      <td>19.39</td>\n",
       "      <td>22.84</td>\n",
       "      <td>22.72</td>\n",
       "      <td>21.26</td>\n",
       "      <td>...</td>\n",
       "      <td>0.0</td>\n",
       "      <td>5.54</td>\n",
       "      <td>0.0</td>\n",
       "      <td>3.39</td>\n",
       "      <td>0.0</td>\n",
       "      <td>0.0</td>\n",
       "      <td>5.45</td>\n",
       "      <td>0.0</td>\n",
       "      <td>0.0</td>\n",
       "      <td>0.0</td>\n",
       "    </tr>\n",
       "    <tr>\n",
       "      <th>2</th>\n",
       "      <td>8.99</td>\n",
       "      <td>20.09</td>\n",
       "      <td>22.09</td>\n",
       "      <td>21.71</td>\n",
       "      <td>21.65</td>\n",
       "      <td>16.85</td>\n",
       "      <td>23.02</td>\n",
       "      <td>15.79</td>\n",
       "      <td>22.24</td>\n",
       "      <td>20.75</td>\n",
       "      <td>...</td>\n",
       "      <td>0.0</td>\n",
       "      <td>0.00</td>\n",
       "      <td>0.0</td>\n",
       "      <td>3.75</td>\n",
       "      <td>0.0</td>\n",
       "      <td>0.0</td>\n",
       "      <td>0.00</td>\n",
       "      <td>0.0</td>\n",
       "      <td>0.0</td>\n",
       "      <td>0.0</td>\n",
       "    </tr>\n",
       "    <tr>\n",
       "      <th>3</th>\n",
       "      <td>7.32</td>\n",
       "      <td>19.82</td>\n",
       "      <td>20.52</td>\n",
       "      <td>20.90</td>\n",
       "      <td>21.58</td>\n",
       "      <td>16.49</td>\n",
       "      <td>18.91</td>\n",
       "      <td>15.45</td>\n",
       "      <td>22.06</td>\n",
       "      <td>19.59</td>\n",
       "      <td>...</td>\n",
       "      <td>0.0</td>\n",
       "      <td>0.00</td>\n",
       "      <td>0.0</td>\n",
       "      <td>0.00</td>\n",
       "      <td>0.0</td>\n",
       "      <td>0.0</td>\n",
       "      <td>0.00</td>\n",
       "      <td>0.0</td>\n",
       "      <td>0.0</td>\n",
       "      <td>0.0</td>\n",
       "    </tr>\n",
       "    <tr>\n",
       "      <th>4</th>\n",
       "      <td>10.56</td>\n",
       "      <td>21.19</td>\n",
       "      <td>20.69</td>\n",
       "      <td>21.29</td>\n",
       "      <td>20.28</td>\n",
       "      <td>16.22</td>\n",
       "      <td>17.15</td>\n",
       "      <td>16.01</td>\n",
       "      <td>21.84</td>\n",
       "      <td>19.74</td>\n",
       "      <td>...</td>\n",
       "      <td>0.0</td>\n",
       "      <td>0.00</td>\n",
       "      <td>0.0</td>\n",
       "      <td>5.20</td>\n",
       "      <td>0.0</td>\n",
       "      <td>0.0</td>\n",
       "      <td>0.00</td>\n",
       "      <td>0.0</td>\n",
       "      <td>0.0</td>\n",
       "      <td>0.0</td>\n",
       "    </tr>\n",
       "  </tbody>\n",
       "</table>\n",
       "<p>5 rows × 52229 columns</p>\n",
       "</div>"
      ],
      "text/plain": [
       "   ALB.Gene_AceView  CD24L4.1.Gene_AceView  RPS11.Gene_RefSeq  \\\n",
       "0              9.29                  18.82              21.17   \n",
       "1              9.25                  20.25              22.44   \n",
       "2              8.99                  20.09              22.09   \n",
       "3              7.32                  19.82              20.52   \n",
       "4             10.56                  21.19              20.69   \n",
       "\n",
       "   RPS18.Gene_AceView  C5orf13.Gene_AceView  CCT2.Gene_AceView  \\\n",
       "0               20.90                 20.02              16.31   \n",
       "1               22.00                 21.05              17.06   \n",
       "2               21.71                 21.65              16.85   \n",
       "3               20.90                 21.58              16.49   \n",
       "4               21.29                 20.28              16.22   \n",
       "\n",
       "   COL1A1.Gene_AceView  DDX1.Gene_AceView  EEF1A1.Gene_AceView  \\\n",
       "0                18.60              15.73                21.71   \n",
       "1                19.39              22.84                22.72   \n",
       "2                23.02              15.79                22.24   \n",
       "3                18.91              15.45                22.06   \n",
       "4                17.15              16.01                21.84   \n",
       "\n",
       "   FLT3LG_.Gene_AceView         ...          zawskaw.Gene_AceView  \\\n",
       "0                 20.02         ...                           0.0   \n",
       "1                 21.26         ...                           0.0   \n",
       "2                 20.75         ...                           0.0   \n",
       "3                 19.59         ...                           0.0   \n",
       "4                 19.74         ...                           0.0   \n",
       "\n",
       "   zeedor.Gene_AceView  zergor.Gene_AceView  zorsa.Gene_AceView  \\\n",
       "0                 0.00                  0.0                0.00   \n",
       "1                 5.54                  0.0                3.39   \n",
       "2                 0.00                  0.0                3.75   \n",
       "3                 0.00                  0.0                0.00   \n",
       "4                 0.00                  0.0                5.20   \n",
       "\n",
       "   zoychabu.Gene_AceView  zoysteeby.Gene_AceView  zudee.Gene_AceView  \\\n",
       "0                    0.0                     0.0                0.00   \n",
       "1                    0.0                     0.0                5.45   \n",
       "2                    0.0                     0.0                0.00   \n",
       "3                    0.0                     0.0                0.00   \n",
       "4                    0.0                     0.0                0.00   \n",
       "\n",
       "   zureyby.Gene_AceView  zuswoybu.Gene_AceView  zyjee.Gene_AceView  \n",
       "0                   0.0                    0.0                 0.0  \n",
       "1                   0.0                    0.0                 0.0  \n",
       "2                   0.0                    0.0                 0.0  \n",
       "3                   0.0                    0.0                 0.0  \n",
       "4                   0.0                    0.0                 0.0  \n",
       "\n",
       "[5 rows x 52229 columns]"
      ]
     },
     "execution_count": 11,
     "metadata": {},
     "output_type": "execute_result"
    }
   ],
   "source": [
    "data_tr.head()"
   ]
  },
  {
   "cell_type": "markdown",
   "metadata": {
    "colab_type": "text",
    "id": "NTZp-z-jk3W4"
   },
   "source": [
    "Read in the files containing label information and check how they look like."
   ]
  },
  {
   "cell_type": "code",
   "execution_count": 12,
   "metadata": {
    "colab": {},
    "colab_type": "code",
    "id": "7Vbq9mqXk3W5",
    "outputId": "6bc4f986-30e2-4953-fc78-80b80982ba47"
   },
   "outputs": [
    {
     "data": {
      "text/html": [
       "<div>\n",
       "<style scoped>\n",
       "    .dataframe tbody tr th:only-of-type {\n",
       "        vertical-align: middle;\n",
       "    }\n",
       "\n",
       "    .dataframe tbody tr th {\n",
       "        vertical-align: top;\n",
       "    }\n",
       "\n",
       "    .dataframe thead th {\n",
       "        text-align: right;\n",
       "    }\n",
       "</style>\n",
       "<table border=\"1\" class=\"dataframe\">\n",
       "  <thead>\n",
       "    <tr style=\"text-align: right;\">\n",
       "      <th></th>\n",
       "      <th>sampleID</th>\n",
       "      <th>CLASS</th>\n",
       "      <th>SEX</th>\n",
       "      <th>RND</th>\n",
       "    </tr>\n",
       "  </thead>\n",
       "  <tbody>\n",
       "    <tr>\n",
       "      <th>0</th>\n",
       "      <td>SEQC_NB001</td>\n",
       "      <td>0</td>\n",
       "      <td>1</td>\n",
       "      <td>1</td>\n",
       "    </tr>\n",
       "    <tr>\n",
       "      <th>1</th>\n",
       "      <td>SEQC_NB003</td>\n",
       "      <td>0</td>\n",
       "      <td>0</td>\n",
       "      <td>0</td>\n",
       "    </tr>\n",
       "    <tr>\n",
       "      <th>2</th>\n",
       "      <td>SEQC_NB005</td>\n",
       "      <td>0</td>\n",
       "      <td>0</td>\n",
       "      <td>1</td>\n",
       "    </tr>\n",
       "    <tr>\n",
       "      <th>3</th>\n",
       "      <td>SEQC_NB011</td>\n",
       "      <td>1</td>\n",
       "      <td>1</td>\n",
       "      <td>1</td>\n",
       "    </tr>\n",
       "    <tr>\n",
       "      <th>4</th>\n",
       "      <td>SEQC_NB013</td>\n",
       "      <td>0</td>\n",
       "      <td>1</td>\n",
       "      <td>1</td>\n",
       "    </tr>\n",
       "  </tbody>\n",
       "</table>\n",
       "</div>"
      ],
      "text/plain": [
       "     sampleID  CLASS  SEX  RND\n",
       "0  SEQC_NB001      0    1    1\n",
       "1  SEQC_NB003      0    0    0\n",
       "2  SEQC_NB005      0    0    1\n",
       "3  SEQC_NB011      1    1    1\n",
       "4  SEQC_NB013      0    1    1"
      ]
     },
     "execution_count": 12,
     "metadata": {},
     "output_type": "execute_result"
    }
   ],
   "source": [
    "labs_tr = pd.read_csv(LABS_TR, sep = \"\\t\")\n",
    "labs_ts = pd.read_csv(LABS_TS, sep = \"\\t\")\n",
    "labs_tr.head()"
   ]
  },
  {
   "cell_type": "markdown",
   "metadata": {
    "colab_type": "text",
    "id": "Bw2huNKIk3W8"
   },
   "source": [
    "We have to fit one model for each label type, so we need to select one column at a time. We start with CLASS, in principle we could consider looping over the columns of interest. In this case no need to remove the first column, since we are using one column at a time."
   ]
  },
  {
   "cell_type": "code",
   "execution_count": 13,
   "metadata": {
    "colab": {},
    "colab_type": "code",
    "id": "pyTfzujJk3W9",
    "outputId": "cd7cf62a-c5b1-491a-853e-631b5cc9a4d2"
   },
   "outputs": [
    {
     "data": {
      "text/html": [
       "<div>\n",
       "<style scoped>\n",
       "    .dataframe tbody tr th:only-of-type {\n",
       "        vertical-align: middle;\n",
       "    }\n",
       "\n",
       "    .dataframe tbody tr th {\n",
       "        vertical-align: top;\n",
       "    }\n",
       "\n",
       "    .dataframe thead th {\n",
       "        text-align: right;\n",
       "    }\n",
       "</style>\n",
       "<table border=\"1\" class=\"dataframe\">\n",
       "  <thead>\n",
       "    <tr style=\"text-align: right;\">\n",
       "      <th></th>\n",
       "      <th>CLASS</th>\n",
       "    </tr>\n",
       "  </thead>\n",
       "  <tbody>\n",
       "    <tr>\n",
       "      <th>0</th>\n",
       "      <td>0</td>\n",
       "    </tr>\n",
       "    <tr>\n",
       "      <th>1</th>\n",
       "      <td>0</td>\n",
       "    </tr>\n",
       "    <tr>\n",
       "      <th>2</th>\n",
       "      <td>0</td>\n",
       "    </tr>\n",
       "    <tr>\n",
       "      <th>3</th>\n",
       "      <td>1</td>\n",
       "    </tr>\n",
       "    <tr>\n",
       "      <th>4</th>\n",
       "      <td>0</td>\n",
       "    </tr>\n",
       "  </tbody>\n",
       "</table>\n",
       "</div>"
      ],
      "text/plain": [
       "   CLASS\n",
       "0      0\n",
       "1      0\n",
       "2      0\n",
       "3      1\n",
       "4      0"
      ]
     },
     "execution_count": 13,
     "metadata": {},
     "output_type": "execute_result"
    }
   ],
   "source": [
    "class_lab_tr = labs_tr[['CLASS']]\n",
    "class_lab_ts = labs_ts[['CLASS']]\n",
    "## give a look at one of the two\n",
    "class_lab_tr.head()"
   ]
  },
  {
   "cell_type": "markdown",
   "metadata": {
    "colab_type": "text",
    "id": "7HSRblhv3RJY"
   },
   "source": [
    "For the remaining part of this hands-on, we need the data and labels to be stored in Numpy arrays:"
   ]
  },
  {
   "cell_type": "code",
   "execution_count": 14,
   "metadata": {
    "colab": {},
    "colab_type": "code",
    "id": "6RAvCkTE3bns"
   },
   "outputs": [],
   "source": [
    "x_tr = data_tr.values\n",
    "x_ts = data_ts.values\n",
    "\n",
    "y_tr = class_lab_tr.values.ravel()\n",
    "y_ts = class_lab_ts.values.ravel()"
   ]
  },
  {
   "cell_type": "markdown",
   "metadata": {
    "colab_type": "text",
    "id": "PoeFheJ9p9wG"
   },
   "source": [
    "\n",
    "\n",
    "---\n",
    "\n",
    "\n",
    "*Naming conventions: in the machine learning world, usually `x` is the data and `y` the target variable (the labels). *\n",
    "\n",
    "---\n",
    "\n"
   ]
  },
  {
   "cell_type": "markdown",
   "metadata": {
    "colab_type": "text",
    "id": "kqmSqRd23lCS"
   },
   "source": [
    "When coding, it is a good practice to have a peek at the resulting variables, to be sure everything is OK: i.e., is that variable like it is supposed to be? Did I accidentally throw away a feature column?\n",
    "\n",
    "This can avoid lots of problems later on!"
   ]
  },
  {
   "cell_type": "code",
   "execution_count": 15,
   "metadata": {
    "colab": {},
    "colab_type": "code",
    "id": "XYs3b6JJ3qrn"
   },
   "outputs": [
    {
     "data": {
      "text/plain": [
       "array([[ 9.29, 18.82, 21.17, ...,  0.  ,  0.  ,  0.  ],\n",
       "       [ 9.25, 20.25, 22.44, ...,  0.  ,  0.  ,  0.  ],\n",
       "       [ 8.99, 20.09, 22.09, ...,  0.  ,  0.  ,  0.  ],\n",
       "       ...,\n",
       "       [ 8.47, 20.75, 20.08, ...,  0.  ,  0.  ,  0.  ],\n",
       "       [ 8.58, 20.57, 20.67, ...,  0.  ,  0.  ,  0.  ],\n",
       "       [ 8.62, 20.13, 21.04, ...,  0.  ,  0.  ,  0.  ]])"
      ]
     },
     "execution_count": 15,
     "metadata": {},
     "output_type": "execute_result"
    }
   ],
   "source": [
    "x_tr"
   ]
  },
  {
   "cell_type": "markdown",
   "metadata": {
    "colab_type": "text",
    "id": "-VrsQZKO37wt"
   },
   "source": [
    "Let's go back to the sample labels:"
   ]
  },
  {
   "cell_type": "code",
   "execution_count": 16,
   "metadata": {
    "colab": {},
    "colab_type": "code",
    "id": "iwI8uSvC4BbC"
   },
   "outputs": [
    {
     "data": {
      "text/plain": [
       "array([0, 0, 0, 1, 0, 1, 1, 1, 1, 1, 1, 1, 1, 1, 1, 1, 1, 1, 1, 1, 1, 1,\n",
       "       1, 1, 1, 1, 0, 1, 1, 1, 1, 1, 1, 1, 1, 0, 1, 1, 1, 1, 0, 1, 1, 1,\n",
       "       1, 0, 1, 1, 1, 1, 1, 1, 1, 1, 0, 1, 1, 1, 0, 0, 1, 1, 1, 1, 1, 1,\n",
       "       1, 1, 1, 1, 1, 1, 1, 0, 0, 0, 0, 0, 0, 0, 0, 1, 1, 1, 1, 1, 0, 0,\n",
       "       1, 1, 1, 1, 0, 1, 1, 1, 0, 0, 0, 1, 0, 0, 0, 0, 0, 0, 1, 1, 0, 1,\n",
       "       0, 1, 1, 1, 0, 0, 0, 0, 0, 0, 0, 0, 0, 1, 1, 0, 0, 1, 1, 1, 1, 0,\n",
       "       1, 1, 1, 1])"
      ]
     },
     "execution_count": 16,
     "metadata": {},
     "output_type": "execute_result"
    }
   ],
   "source": [
    "y_tr"
   ]
  },
  {
   "cell_type": "markdown",
   "metadata": {
    "colab_type": "text",
    "id": "f99gjxxW3yMs"
   },
   "source": [
    "---\n",
    "\n",
    "### Quick recap\n",
    "\n",
    "- class_lab_tr = 0 indicates **unfavorable** neuroblastoma samples (**bad** outcome)\n",
    "- class_lab_tr = 1 indicates **favorable** neuroblastoma samples (**good** outcome)\n",
    "\n",
    "---"
   ]
  },
  {
   "cell_type": "markdown",
   "metadata": {},
   "source": [
    "# Data preprocessing"
   ]
  },
  {
   "cell_type": "markdown",
   "metadata": {},
   "source": [
    "From the lecture we know that the downstream analysis can benefit from data preprocessing, i.e., rescaling or standardizing data values."
   ]
  },
  {
   "cell_type": "markdown",
   "metadata": {},
   "source": [
    "In Scikit learn you can use `MinMaxScaler` or `StandardScaler` in the `preprocessing` submodule. Here is an example using the `MinMaxScaler`:"
   ]
  },
  {
   "cell_type": "code",
   "execution_count": 17,
   "metadata": {},
   "outputs": [],
   "source": [
    "from sklearn.preprocessing import MinMaxScaler\n",
    "## first you need to create a \"scaler\" object\n",
    "scaler = MinMaxScaler(feature_range=(-1,1))\n",
    "## then you actually scale data by fitting the scaler object on the data\n",
    "scaler.fit(x_tr)\n",
    "x_tr = scaler.transform(x_tr)\n",
    "x_ts = scaler.transform(x_ts)"
   ]
  },
  {
   "cell_type": "markdown",
   "metadata": {},
   "source": [
    "Note how we transformed the test set: we computed the scaling parameters on the training set and applied them to the test set. In this way, we did not use any information in the test set to standardize it."
   ]
  },
  {
   "cell_type": "markdown",
   "metadata": {
    "colab_type": "text",
    "id": "gDUP1kW8ou4-"
   },
   "source": [
    "# Principal Component Analysis"
   ]
  },
  {
   "cell_type": "markdown",
   "metadata": {
    "colab_type": "text",
    "id": "yrQII8Zm4SQ-"
   },
   "source": [
    "Principal Component Analysis (PCA) introduces a lower-dimensional representation of the dataset. It finds a sequence of linear combination of the variables (called the _principal components_) that explain the maximum variance and summarize the most information in the data and are mutually uncorrelated."
   ]
  },
  {
   "cell_type": "markdown",
   "metadata": {
    "colab_type": "text",
    "id": "LrgsMWEHoyzd"
   },
   "source": [
    "Let's perform an **unsupervised learning** task on our data set \"as is\" by decomposing it in its Principal Components.\n",
    "\n",
    "In scikit-learn, we can use the module PCA:"
   ]
  },
  {
   "cell_type": "code",
   "execution_count": 18,
   "metadata": {
    "colab": {},
    "colab_type": "code",
    "id": "pEQSdHYi5F4k"
   },
   "outputs": [],
   "source": [
    "from sklearn.decomposition import PCA\n",
    "pca = PCA(n_components=2)"
   ]
  },
  {
   "cell_type": "markdown",
   "metadata": {
    "colab_type": "text",
    "id": "_P4v7UyA5I_Z"
   },
   "source": [
    "So far we have a PCA _object_ but no transformation yet.\n",
    "\n",
    "To actually transform the data, we'll have to _fit_ the PCA object on the training data, at the same time _transforming_ them in the Principal Component space:"
   ]
  },
  {
   "cell_type": "code",
   "execution_count": 19,
   "metadata": {
    "colab": {},
    "colab_type": "code",
    "id": "8EOU3LbC5bUP"
   },
   "outputs": [],
   "source": [
    "z_tr = pca.fit_transform(x_tr)"
   ]
  },
  {
   "cell_type": "code",
   "execution_count": 20,
   "metadata": {},
   "outputs": [],
   "source": [
    "pca.fit(x_tr)\n",
    "z_tr = pca.transform(x_tr)"
   ]
  },
  {
   "cell_type": "code",
   "execution_count": 21,
   "metadata": {},
   "outputs": [
    {
     "data": {
      "text/plain": [
       "(136, 2)"
      ]
     },
     "execution_count": 21,
     "metadata": {},
     "output_type": "execute_result"
    }
   ],
   "source": [
    "z_tr.shape"
   ]
  },
  {
   "cell_type": "markdown",
   "metadata": {
    "colab_type": "text",
    "id": "GSURQjcg6ERt"
   },
   "source": [
    "Let's have a look at the _variance ratio_, i.e. the percentage of the variance explained by each component:"
   ]
  },
  {
   "cell_type": "code",
   "execution_count": 22,
   "metadata": {
    "colab": {},
    "colab_type": "code",
    "id": "Cma7FaOd6F1M"
   },
   "outputs": [
    {
     "name": "stdout",
     "output_type": "stream",
     "text": [
      "[0.08194369 0.0433671 ]\n"
     ]
    }
   ],
   "source": [
    "print(pca.explained_variance_ratio_)"
   ]
  },
  {
   "cell_type": "markdown",
   "metadata": {
    "colab_type": "text",
    "id": "gf_TACYP6JXk"
   },
   "source": [
    "_What can you understand from these variance percentages? Could this task be \"predictable\" by some sort of model?_"
   ]
  },
  {
   "cell_type": "markdown",
   "metadata": {
    "colab_type": "text",
    "id": "4oM7HM9d6UL6"
   },
   "source": [
    "Is it always convenient to visualize the first two principal components in a scatterplot, in order to get a first assessment of the goodness of the decomposition.\n",
    "\n",
    "We will color the points in the plot according to our sample labels."
   ]
  },
  {
   "cell_type": "code",
   "execution_count": 23,
   "metadata": {},
   "outputs": [
    {
     "data": {
      "text/html": [
       "\n",
       "<div class=\"bk-root\">\n",
       "    <div class=\"bk-plotdiv\" id=\"fd92f5ec-a952-4c56-9f57-280a5da5f624\"></div>\n",
       "</div>"
      ]
     },
     "metadata": {},
     "output_type": "display_data"
    },
    {
     "data": {
      "application/javascript": [
       "(function(root) {\n",
       "  function embed_document(root) {\n",
       "    \n",
       "  var docs_json = {\"f581f7f5-ad4a-4b4d-9c36-5011c136da3e\":{\"roots\":{\"references\":[{\"attributes\":{\"fill_alpha\":{\"value\":0.1},\"fill_color\":{\"value\":\"#1f77b4\"},\"line_alpha\":{\"value\":0.1},\"line_color\":{\"value\":\"#1f77b4\"},\"x\":{\"field\":\"x\"},\"y\":{\"field\":\"y\"}},\"id\":\"578311d8-8ca8-43a6-806a-dd2afe910f4c\",\"type\":\"Circle\"},{\"attributes\":{},\"id\":\"0ac9d99f-4445-4568-ac9e-69f19a680599\",\"type\":\"Selection\"},{\"attributes\":{\"active_drag\":\"auto\",\"active_inspect\":\"auto\",\"active_scroll\":\"auto\",\"active_tap\":\"auto\",\"tools\":[{\"id\":\"7ab9fdfb-298b-4b61-a00a-fecfda8ae28d\",\"type\":\"PanTool\"},{\"id\":\"30243c20-8f2c-4f7f-a05e-e3956e59775e\",\"type\":\"WheelZoomTool\"},{\"id\":\"1beec0d7-5cc8-481c-9e26-923bd16df227\",\"type\":\"BoxZoomTool\"},{\"id\":\"5ebd41b2-5f1c-4b19-ad41-495539ca8c9b\",\"type\":\"SaveTool\"},{\"id\":\"350ce84d-0611-4f8a-9f43-8258d5482ea6\",\"type\":\"ResetTool\"},{\"id\":\"7d66043f-2f80-4c49-b7c1-1e7b29a0af66\",\"type\":\"HelpTool\"}]},\"id\":\"5e61b569-21fd-4636-b89b-c58313b596d7\",\"type\":\"Toolbar\"},{\"attributes\":{},\"id\":\"207017d5-7c07-4632-9ca7-0467df0c7e70\",\"type\":\"UnionRenderers\"},{\"attributes\":{\"fill_color\":{\"value\":\"orange\"},\"line_color\":{\"value\":\"orange\"},\"x\":{\"field\":\"x\"},\"y\":{\"field\":\"y\"}},\"id\":\"55788bac-0509-4db3-851e-2ad5507b44bc\",\"type\":\"Circle\"},{\"attributes\":{},\"id\":\"20a06083-a08f-402e-a166-53e00ae3d1c6\",\"type\":\"Selection\"},{\"attributes\":{},\"id\":\"9104b613-185a-4605-897a-65b840848b66\",\"type\":\"BasicTickFormatter\"},{\"attributes\":{\"below\":[{\"id\":\"66a59647-cfb3-48f5-853c-e378edb23566\",\"type\":\"LinearAxis\"}],\"left\":[{\"id\":\"636f73f8-4a94-4984-a157-007a9c1f92e9\",\"type\":\"LinearAxis\"}],\"plot_height\":400,\"plot_width\":400,\"renderers\":[{\"id\":\"66a59647-cfb3-48f5-853c-e378edb23566\",\"type\":\"LinearAxis\"},{\"id\":\"6414f74a-4633-4213-ba59-4d8b09cf032c\",\"type\":\"Grid\"},{\"id\":\"636f73f8-4a94-4984-a157-007a9c1f92e9\",\"type\":\"LinearAxis\"},{\"id\":\"4aaa0bc4-228d-4266-b8dc-4213fe5042f6\",\"type\":\"Grid\"},{\"id\":\"4a9f91d0-bd1e-4b38-bffa-5b3399973856\",\"type\":\"BoxAnnotation\"},{\"id\":\"4703dd56-5d0b-49f2-963e-c2562d3796aa\",\"type\":\"GlyphRenderer\"},{\"id\":\"790faec9-4ab0-4793-9e2e-62921cf31ce8\",\"type\":\"GlyphRenderer\"}],\"title\":{\"id\":\"28b7adc3-9383-4511-afaa-69e6be05de92\",\"type\":\"Title\"},\"toolbar\":{\"id\":\"5e61b569-21fd-4636-b89b-c58313b596d7\",\"type\":\"Toolbar\"},\"x_range\":{\"id\":\"9fcb5a73-6302-457a-8b58-231b497ac950\",\"type\":\"DataRange1d\"},\"x_scale\":{\"id\":\"f599e90b-7a15-4166-865e-6dd7eee1ea31\",\"type\":\"LinearScale\"},\"y_range\":{\"id\":\"1f914f1e-26b6-4362-baa6-f4ed9bae91ae\",\"type\":\"DataRange1d\"},\"y_scale\":{\"id\":\"d9ed750a-2348-490a-9871-5c18a14160f8\",\"type\":\"LinearScale\"}},\"id\":\"162587d8-457e-4ad3-8646-f6b67d9afcaa\",\"subtype\":\"Figure\",\"type\":\"Plot\"},{\"attributes\":{\"callback\":null,\"data\":{\"x\":{\"__ndarray__\":\"s4dscZTUFsCsUR4MMntMQEacKLQ+z0dAZjHJmj/mKMDavt88hvAvQPepnplzfeQ/iRqKdbXJRUDD41gKeYQzQOEzq9HxPkdAof95CJrpUUCXVoj1RC9SQFRDbl6DGfW//wiVFHpZJEDanZ+ntBVJQPXwzwnJIlNAD4fQrjFbQkApN+KVnwFMQJZQEet7gUJAB8OIkj+NPkA6POlDoostwF2LPGBkvxtAb0MN5dbzFEBG8wS/hXFOQNvWE0osDk1AAx0Rr8ddOEBhAMw5xFA0QMbOy//t9VFAuP2PyC4xN0C918OCG0c4QNvLJkWY3EFAWeQZTmXUSUB6OcmTg1E5QP7aMVQ/kSHA3uDhUYTsDkBfqygeHqg1QBm4Scy720JAYGv9cKPgREC3MSH71K8tQLpNrTITFlRAHXxspr3+SEDjaqfxTofxv1Zkp2gpcSNAyZ7O8pNKUEDDp6vqvAxQQO/AHnRFIlNA\",\"dtype\":\"float64\",\"shape\":[45]},\"y\":{\"__ndarray__\":\"5PVobXIYNEAbI7kdXVw2wEpKDc6nBgHAtMNFMWd/NMAQK6V1J5EJwB7i+V5UxxZA8RXRZPOeIcBhsnMT6sE3wJFnXaFJpxhAhHAj30TDz7/KqmMKc+w9wH/oBR/sckJAJuQKfyZNL0B5ResFsvEoQF959I4Mn0PAoDzn6xhBNkB4LAS7Jfk1wDIPw4n7pChAzQEh+La0F8DzZ9i1DoIowBGmZti8ByRA6Nnjzr/EQsAKobWnnulFQG7mTrGWVzTA9GZR60VCFkCj1E4NSO1BQORR0RpiqwrArZcb6qPaTUBb9JxAoDQ8QETAWzE+bjNAbjnJ9riZNUDio8BMqBFGQJr/aX26KUNALA4ZgbopSUBeJV1jAgM1QH555P1vjyxAc92EhwMyRUBzj8fL9JlDQF+DmsrFiBVA58tVN1cLQMAVcmzzh0k/QDILsl0qHyhAZg3FVBo0OcDfvGZhQ6Y2wHad6WtZ/hjA\",\"dtype\":\"float64\",\"shape\":[45]}},\"selected\":{\"id\":\"0ac9d99f-4445-4568-ac9e-69f19a680599\",\"type\":\"Selection\"},\"selection_policy\":{\"id\":\"7766407d-4b55-46d4-bb9a-74298e71f74a\",\"type\":\"UnionRenderers\"}},\"id\":\"6f41ebaf-8e24-4b1f-9943-8e92b50e40a2\",\"type\":\"ColumnDataSource\"},{\"attributes\":{\"plot\":null,\"text\":\"PCA of Train data\"},\"id\":\"28b7adc3-9383-4511-afaa-69e6be05de92\",\"type\":\"Title\"},{\"attributes\":{\"callback\":null},\"id\":\"1f914f1e-26b6-4362-baa6-f4ed9bae91ae\",\"type\":\"DataRange1d\"},{\"attributes\":{},\"id\":\"d9ed750a-2348-490a-9871-5c18a14160f8\",\"type\":\"LinearScale\"},{\"attributes\":{},\"id\":\"f599e90b-7a15-4166-865e-6dd7eee1ea31\",\"type\":\"LinearScale\"},{\"attributes\":{\"source\":{\"id\":\"6f41ebaf-8e24-4b1f-9943-8e92b50e40a2\",\"type\":\"ColumnDataSource\"}},\"id\":\"677bd7ee-c5eb-42a9-a2d6-be65c7da20d5\",\"type\":\"CDSView\"},{\"attributes\":{\"axis_label\":\"PC1\",\"formatter\":{\"id\":\"00c06ead-0e6d-4bb5-a14e-4e78d94233df\",\"type\":\"BasicTickFormatter\"},\"plot\":{\"id\":\"162587d8-457e-4ad3-8646-f6b67d9afcaa\",\"subtype\":\"Figure\",\"type\":\"Plot\"},\"ticker\":{\"id\":\"f88296ac-67a5-4059-b98c-b4e252b6fa1d\",\"type\":\"BasicTicker\"}},\"id\":\"66a59647-cfb3-48f5-853c-e378edb23566\",\"type\":\"LinearAxis\"},{\"attributes\":{},\"id\":\"f88296ac-67a5-4059-b98c-b4e252b6fa1d\",\"type\":\"BasicTicker\"},{\"attributes\":{\"callback\":null},\"id\":\"9fcb5a73-6302-457a-8b58-231b497ac950\",\"type\":\"DataRange1d\"},{\"attributes\":{\"plot\":{\"id\":\"162587d8-457e-4ad3-8646-f6b67d9afcaa\",\"subtype\":\"Figure\",\"type\":\"Plot\"},\"ticker\":{\"id\":\"f88296ac-67a5-4059-b98c-b4e252b6fa1d\",\"type\":\"BasicTicker\"}},\"id\":\"6414f74a-4633-4213-ba59-4d8b09cf032c\",\"type\":\"Grid\"},{\"attributes\":{\"axis_label\":\"PC2\",\"formatter\":{\"id\":\"9104b613-185a-4605-897a-65b840848b66\",\"type\":\"BasicTickFormatter\"},\"plot\":{\"id\":\"162587d8-457e-4ad3-8646-f6b67d9afcaa\",\"subtype\":\"Figure\",\"type\":\"Plot\"},\"ticker\":{\"id\":\"6da6b1cc-0947-4d17-b3ea-e1d619d0cc1d\",\"type\":\"BasicTicker\"}},\"id\":\"636f73f8-4a94-4984-a157-007a9c1f92e9\",\"type\":\"LinearAxis\"},{\"attributes\":{},\"id\":\"6da6b1cc-0947-4d17-b3ea-e1d619d0cc1d\",\"type\":\"BasicTicker\"},{\"attributes\":{\"dimension\":1,\"plot\":{\"id\":\"162587d8-457e-4ad3-8646-f6b67d9afcaa\",\"subtype\":\"Figure\",\"type\":\"Plot\"},\"ticker\":{\"id\":\"6da6b1cc-0947-4d17-b3ea-e1d619d0cc1d\",\"type\":\"BasicTicker\"}},\"id\":\"4aaa0bc4-228d-4266-b8dc-4213fe5042f6\",\"type\":\"Grid\"},{\"attributes\":{\"bottom_units\":\"screen\",\"fill_alpha\":{\"value\":0.5},\"fill_color\":{\"value\":\"lightgrey\"},\"left_units\":\"screen\",\"level\":\"overlay\",\"line_alpha\":{\"value\":1.0},\"line_color\":{\"value\":\"black\"},\"line_dash\":[4,4],\"line_width\":{\"value\":2},\"plot\":null,\"render_mode\":\"css\",\"right_units\":\"screen\",\"top_units\":\"screen\"},\"id\":\"4a9f91d0-bd1e-4b38-bffa-5b3399973856\",\"type\":\"BoxAnnotation\"},{\"attributes\":{\"fill_color\":{\"value\":\"blue\"},\"line_color\":{\"value\":\"blue\"},\"x\":{\"field\":\"x\"},\"y\":{\"field\":\"y\"}},\"id\":\"bc1afe64-4989-434a-9ccf-3b70f18a4f8f\",\"type\":\"Circle\"},{\"attributes\":{\"callback\":null,\"data\":{\"x\":{\"__ndarray__\":\"/Si/hE7yN8C6LbeVIKI7wMMdNO2D8inAf+ipwzArOcDAL+3Xn/s1wDpQqZT/RC3A0VDAJ94uPcBFfI+FtRMowC2xhdPCKDbAh/tMbl75GsCLjArEw/I5wFIeYVW4nzjA+3HQp7TxKsDw+0WEIxQ2wAcO2cuCFz/A4CDm9licNcDGtBtiHbs5wHoGXaS4TTjAbVP5QWQsuD/era7rU1o3wBKDDJQ51zTAFZbmKzXTN8DIH3gJwY04wP/xZL+6Lj3AUkAxbHHkPsAIDXLNd+AiwJ8e4cfbYTvAYfI139CSN8A69w0ghAQOwC6ADoIpczXAxEDA7yA4QMCjNRjYobcowFv7IezNkTHA7S9ynqPANMCd9IoXjBg7wOLmNaL24TPA46nyBgS0NcDWCO503F4nwNbB0lfCnPu/XvHMQOpZ/b+9PLtTrjkwwPjSg1Z3kD7AT/8gRchQMsCZtgXC/hAwwJlJaCSHEBzAy0yjL87sPcDBp9RjzaMtwHxLFCQxBCNAcBQkl+BpAsB/Qr8LB2MuwDVCpP4iizfABZaDj85/PkDWX3fIOSE9wK48LhtqRzjAX70SodsvOcC+2/mOfvhBwGJMpTrvDzDAK39eBbxjMcCwB+gEkcoCQEnRjZb8iSnAz5Dh2+j+EsAGyAlM39oHQH9cMAtzIzHAZ5wsm+mrIsCDkyzz8YM1wC5kNz067DnANeanmreYJcAjXi1Yz7IrwA9R6qUBfTTAQks43xlAPMBYeSwB/y01wE5I/c2VkzLAANgvIXagREAfaGCbqiguwN+beVChYjvAr+Z9nW/MM8Cpd1pFUEYVwJkdq+B5LDTAhyAPgUT+HsATLFQzmOw1wGeQb5ytOCfAuci/rTgkMsAiDs6wl9A3wFw5pdAaRTrAvZR9mMg6JEBUVyucjKIywM0trS/48ANAxao8AjDuOsDVRS6rQjIVwEG2mc3L7TPASSgSW+zsL8A=\",\"dtype\":\"float64\",\"shape\":[91]},\"y\":{\"__ndarray__\":\"SmsRgBg8IUC7oD0b4RAvwB35A0JM8CnAzl/S3gASSkBQJfXGvD0YQGoNRpWAkzZA1lwfrDmBHkA06UHxc0kYQLJMpdZFZSVA0oe0tBALNMArRmWoxfwiQB9tLdeqCiXAEZb3q3/yJcA+RjvKlI8ywAC+oHGJGzLA70Yo+Dj2jj9zV2of099BQCzMeir/JzbA+MjwoBiKRsBN8tZT0QQzwFwIlUXLmirAntwY8xrtLMDl9QASdnQqwKf2eC5KKzBA4FF8NTxo+T/2Yz1KISY7wN/tM+cnMTtAs/VrBGJsMkAO7adwqZlAwKTby3spuQJAZThzpKyvK0BVxCjuMI00wLZmpr6nPzXAJTwBBDRkN8DXDMhBSWUMwF1IK1kH9B3AZqrQl1vXK0A3EeHgZhVCwLGyZkqlax/AOzHcEWMThT/Ku1RCqQwhwKe/3zZ4OSpAEp6Gdw51TUAcwlPljvMtwG8hT9sUCjbA+X0D8p+aGUB8Y+YlKhgvwIq/wa5PsC/AfQqxRAXdIUAQOz28XxYhwIvoWu+DLDHAw5EC14kYM0DS02Dp/lgWwOYhg1GW6jPAp3XzbwprK8CYCgw0UtQqwAqj9yrVFSHAdmNTQPu9KsAk1tK2sLgswIyMXflGJCjAxuEk8BUAQEAxsLks9bAUQOh0mgDoEzfAAJlW4YL0OcAS5j6QbBwswNEV4Ni+azLAMt49bRyOJsDpE8fUyZodQOw4mT27ditARLpzHfjfJEA5yWe0uVIDQGMEyRFfGCfAbrwjHpwSI8BGqySOoR8WQGe1HsA8u0BALsA+Ef1tNUAxoOniUqJAwGjvlTruXhrAtIczEyab97/+m3lEManJv3XEyYZYuijAQQWdtYxSO0CpGUBQNz8lwA1hTiQy1zJAW1NzRuA1N8CPSam/Y5I2wIlPufEzrjDATpXG7kayBsDPwfIv1iUpwOQFGffjryNAOhm6zdXaJkA=\",\"dtype\":\"float64\",\"shape\":[91]}},\"selected\":{\"id\":\"20a06083-a08f-402e-a166-53e00ae3d1c6\",\"type\":\"Selection\"},\"selection_policy\":{\"id\":\"207017d5-7c07-4632-9ca7-0467df0c7e70\",\"type\":\"UnionRenderers\"}},\"id\":\"2fad3807-14d5-4105-8d10-df5d2260103e\",\"type\":\"ColumnDataSource\"},{\"attributes\":{},\"id\":\"7ab9fdfb-298b-4b61-a00a-fecfda8ae28d\",\"type\":\"PanTool\"},{\"attributes\":{\"data_source\":{\"id\":\"6f41ebaf-8e24-4b1f-9943-8e92b50e40a2\",\"type\":\"ColumnDataSource\"},\"glyph\":{\"id\":\"55788bac-0509-4db3-851e-2ad5507b44bc\",\"type\":\"Circle\"},\"hover_glyph\":null,\"muted_glyph\":null,\"nonselection_glyph\":{\"id\":\"578311d8-8ca8-43a6-806a-dd2afe910f4c\",\"type\":\"Circle\"},\"selection_glyph\":null,\"view\":{\"id\":\"677bd7ee-c5eb-42a9-a2d6-be65c7da20d5\",\"type\":\"CDSView\"}},\"id\":\"4703dd56-5d0b-49f2-963e-c2562d3796aa\",\"type\":\"GlyphRenderer\"},{\"attributes\":{\"fill_alpha\":{\"value\":0.1},\"fill_color\":{\"value\":\"#1f77b4\"},\"line_alpha\":{\"value\":0.1},\"line_color\":{\"value\":\"#1f77b4\"},\"x\":{\"field\":\"x\"},\"y\":{\"field\":\"y\"}},\"id\":\"055b002b-75de-4d85-bdaf-f896de75b7a5\",\"type\":\"Circle\"},{\"attributes\":{},\"id\":\"30243c20-8f2c-4f7f-a05e-e3956e59775e\",\"type\":\"WheelZoomTool\"},{\"attributes\":{\"overlay\":{\"id\":\"4a9f91d0-bd1e-4b38-bffa-5b3399973856\",\"type\":\"BoxAnnotation\"}},\"id\":\"1beec0d7-5cc8-481c-9e26-923bd16df227\",\"type\":\"BoxZoomTool\"},{\"attributes\":{},\"id\":\"5ebd41b2-5f1c-4b19-ad41-495539ca8c9b\",\"type\":\"SaveTool\"},{\"attributes\":{},\"id\":\"350ce84d-0611-4f8a-9f43-8258d5482ea6\",\"type\":\"ResetTool\"},{\"attributes\":{},\"id\":\"7d66043f-2f80-4c49-b7c1-1e7b29a0af66\",\"type\":\"HelpTool\"},{\"attributes\":{},\"id\":\"00c06ead-0e6d-4bb5-a14e-4e78d94233df\",\"type\":\"BasicTickFormatter\"},{\"attributes\":{\"data_source\":{\"id\":\"2fad3807-14d5-4105-8d10-df5d2260103e\",\"type\":\"ColumnDataSource\"},\"glyph\":{\"id\":\"bc1afe64-4989-434a-9ccf-3b70f18a4f8f\",\"type\":\"Circle\"},\"hover_glyph\":null,\"muted_glyph\":null,\"nonselection_glyph\":{\"id\":\"055b002b-75de-4d85-bdaf-f896de75b7a5\",\"type\":\"Circle\"},\"selection_glyph\":null,\"view\":{\"id\":\"a2ddf5c0-8f4e-4312-96e6-f199ecabe5a8\",\"type\":\"CDSView\"}},\"id\":\"790faec9-4ab0-4793-9e2e-62921cf31ce8\",\"type\":\"GlyphRenderer\"},{\"attributes\":{\"source\":{\"id\":\"2fad3807-14d5-4105-8d10-df5d2260103e\",\"type\":\"ColumnDataSource\"}},\"id\":\"a2ddf5c0-8f4e-4312-96e6-f199ecabe5a8\",\"type\":\"CDSView\"},{\"attributes\":{},\"id\":\"7766407d-4b55-46d4-bb9a-74298e71f74a\",\"type\":\"UnionRenderers\"}],\"root_ids\":[\"162587d8-457e-4ad3-8646-f6b67d9afcaa\"]},\"title\":\"Bokeh Application\",\"version\":\"0.12.16\"}};\n",
       "  var render_items = [{\"docid\":\"f581f7f5-ad4a-4b4d-9c36-5011c136da3e\",\"elementid\":\"fd92f5ec-a952-4c56-9f57-280a5da5f624\",\"modelid\":\"162587d8-457e-4ad3-8646-f6b67d9afcaa\"}];\n",
       "  root.Bokeh.embed.embed_items_notebook(docs_json, render_items);\n",
       "\n",
       "  }\n",
       "  if (root.Bokeh !== undefined) {\n",
       "    embed_document(root);\n",
       "  } else {\n",
       "    var attempts = 0;\n",
       "    var timer = setInterval(function(root) {\n",
       "      if (root.Bokeh !== undefined) {\n",
       "        embed_document(root);\n",
       "        clearInterval(timer);\n",
       "      }\n",
       "      attempts++;\n",
       "      if (attempts > 100) {\n",
       "        console.log(\"Bokeh: ERROR: Unable to run BokehJS code because BokehJS library is missing\")\n",
       "        clearInterval(timer);\n",
       "      }\n",
       "    }, 10, root)\n",
       "  }\n",
       "})(window);"
      ],
      "application/vnd.bokehjs_exec.v0+json": ""
     },
     "metadata": {
      "application/vnd.bokehjs_exec.v0+json": {
       "id": "162587d8-457e-4ad3-8646-f6b67d9afcaa"
      }
     },
     "output_type": "display_data"
    }
   ],
   "source": [
    "p = figure(plot_width=400, plot_height=400, title=\"PCA of Train data\")\n",
    "p.circle(z_tr[y_tr==0, 0], z_tr[y_tr==0, 1], line_color=\"orange\", fill_color=\"orange\")\n",
    "p.circle(z_tr[y_tr==1, 0], z_tr[y_tr==1, 1], line_color=\"blue\", fill_color=\"blue\")\n",
    "p.xaxis.axis_label = \"PC1\"\n",
    "p.yaxis.axis_label = \"PC2\"\n",
    "show(p)"
   ]
  },
  {
   "cell_type": "markdown",
   "metadata": {
    "colab_type": "text",
    "id": "320ZkI6y6dlJ"
   },
   "source": [
    "In a PCA plot, it is usually more informative to print also the explained variances (e.g., in the axis labels):"
   ]
  },
  {
   "cell_type": "code",
   "execution_count": 27,
   "metadata": {},
   "outputs": [
    {
     "data": {
      "text/html": [
       "\n",
       "<div class=\"bk-root\">\n",
       "    <div class=\"bk-plotdiv\" id=\"d0c9488f-b9af-4105-b2c0-dd93310660ef\"></div>\n",
       "</div>"
      ]
     },
     "metadata": {},
     "output_type": "display_data"
    },
    {
     "data": {
      "application/javascript": [
       "(function(root) {\n",
       "  function embed_document(root) {\n",
       "    \n",
       "  var docs_json = {\"8569d5e9-157c-4830-b35b-978236e6dc15\":{\"roots\":{\"references\":[{\"attributes\":{\"plot\":null,\"text\":\"PCA of Train data\"},\"id\":\"6cdf3505-a1b2-4907-ac0b-5aff466f3395\",\"type\":\"Title\"},{\"attributes\":{},\"id\":\"6a0308b0-15ee-4b19-85fd-d89463b3e43c\",\"type\":\"Selection\"},{\"attributes\":{},\"id\":\"d9d33ed3-0481-437f-ba80-47ea8a19d71e\",\"type\":\"BasicTickFormatter\"},{\"attributes\":{\"callback\":null},\"id\":\"e48717ee-bf3b-4969-8118-daa1b2c244ea\",\"type\":\"DataRange1d\"},{\"attributes\":{},\"id\":\"c0456d6f-b7f4-495b-98c7-9a353993e75f\",\"type\":\"ResetTool\"},{\"attributes\":{},\"id\":\"83504468-f82a-4bf7-ae7b-5534254eb89f\",\"type\":\"UnionRenderers\"},{\"attributes\":{\"fill_alpha\":{\"value\":0.1},\"fill_color\":{\"value\":\"#1f77b4\"},\"line_alpha\":{\"value\":0.1},\"line_color\":{\"value\":\"#1f77b4\"},\"x\":{\"field\":\"x\"},\"y\":{\"field\":\"y\"}},\"id\":\"ca1a5fd6-322b-4699-9f7f-c77e4d41f869\",\"type\":\"Circle\"},{\"attributes\":{\"callback\":null,\"data\":{\"x\":{\"__ndarray__\":\"/Si/hE7yN8C6LbeVIKI7wMMdNO2D8inAf+ipwzArOcDAL+3Xn/s1wDpQqZT/RC3A0VDAJ94uPcBFfI+FtRMowC2xhdPCKDbAh/tMbl75GsCLjArEw/I5wFIeYVW4nzjA+3HQp7TxKsDw+0WEIxQ2wAcO2cuCFz/A4CDm9licNcDGtBtiHbs5wHoGXaS4TTjAbVP5QWQsuD/era7rU1o3wBKDDJQ51zTAFZbmKzXTN8DIH3gJwY04wP/xZL+6Lj3AUkAxbHHkPsAIDXLNd+AiwJ8e4cfbYTvAYfI139CSN8A69w0ghAQOwC6ADoIpczXAxEDA7yA4QMCjNRjYobcowFv7IezNkTHA7S9ynqPANMCd9IoXjBg7wOLmNaL24TPA46nyBgS0NcDWCO503F4nwNbB0lfCnPu/XvHMQOpZ/b+9PLtTrjkwwPjSg1Z3kD7AT/8gRchQMsCZtgXC/hAwwJlJaCSHEBzAy0yjL87sPcDBp9RjzaMtwHxLFCQxBCNAcBQkl+BpAsB/Qr8LB2MuwDVCpP4iizfABZaDj85/PkDWX3fIOSE9wK48LhtqRzjAX70SodsvOcC+2/mOfvhBwGJMpTrvDzDAK39eBbxjMcCwB+gEkcoCQEnRjZb8iSnAz5Dh2+j+EsAGyAlM39oHQH9cMAtzIzHAZ5wsm+mrIsCDkyzz8YM1wC5kNz067DnANeanmreYJcAjXi1Yz7IrwA9R6qUBfTTAQks43xlAPMBYeSwB/y01wE5I/c2VkzLAANgvIXagREAfaGCbqiguwN+beVChYjvAr+Z9nW/MM8Cpd1pFUEYVwJkdq+B5LDTAhyAPgUT+HsATLFQzmOw1wGeQb5ytOCfAuci/rTgkMsAiDs6wl9A3wFw5pdAaRTrAvZR9mMg6JEBUVyucjKIywM0trS/48ANAxao8AjDuOsDVRS6rQjIVwEG2mc3L7TPASSgSW+zsL8A=\",\"dtype\":\"float64\",\"shape\":[91]},\"y\":{\"__ndarray__\":\"SmsRgBg8IUC7oD0b4RAvwB35A0JM8CnAzl/S3gASSkBQJfXGvD0YQGoNRpWAkzZA1lwfrDmBHkA06UHxc0kYQLJMpdZFZSVA0oe0tBALNMArRmWoxfwiQB9tLdeqCiXAEZb3q3/yJcA+RjvKlI8ywAC+oHGJGzLA70Yo+Dj2jj9zV2of099BQCzMeir/JzbA+MjwoBiKRsBN8tZT0QQzwFwIlUXLmirAntwY8xrtLMDl9QASdnQqwKf2eC5KKzBA4FF8NTxo+T/2Yz1KISY7wN/tM+cnMTtAs/VrBGJsMkAO7adwqZlAwKTby3spuQJAZThzpKyvK0BVxCjuMI00wLZmpr6nPzXAJTwBBDRkN8DXDMhBSWUMwF1IK1kH9B3AZqrQl1vXK0A3EeHgZhVCwLGyZkqlax/AOzHcEWMThT/Ku1RCqQwhwKe/3zZ4OSpAEp6Gdw51TUAcwlPljvMtwG8hT9sUCjbA+X0D8p+aGUB8Y+YlKhgvwIq/wa5PsC/AfQqxRAXdIUAQOz28XxYhwIvoWu+DLDHAw5EC14kYM0DS02Dp/lgWwOYhg1GW6jPAp3XzbwprK8CYCgw0UtQqwAqj9yrVFSHAdmNTQPu9KsAk1tK2sLgswIyMXflGJCjAxuEk8BUAQEAxsLks9bAUQOh0mgDoEzfAAJlW4YL0OcAS5j6QbBwswNEV4Ni+azLAMt49bRyOJsDpE8fUyZodQOw4mT27ditARLpzHfjfJEA5yWe0uVIDQGMEyRFfGCfAbrwjHpwSI8BGqySOoR8WQGe1HsA8u0BALsA+Ef1tNUAxoOniUqJAwGjvlTruXhrAtIczEyab97/+m3lEManJv3XEyYZYuijAQQWdtYxSO0CpGUBQNz8lwA1hTiQy1zJAW1NzRuA1N8CPSam/Y5I2wIlPufEzrjDATpXG7kayBsDPwfIv1iUpwOQFGffjryNAOhm6zdXaJkA=\",\"dtype\":\"float64\",\"shape\":[91]}},\"selected\":{\"id\":\"609655c7-ca0a-423a-a954-f4399ff7e1b1\",\"type\":\"Selection\"},\"selection_policy\":{\"id\":\"83504468-f82a-4bf7-ae7b-5534254eb89f\",\"type\":\"UnionRenderers\"}},\"id\":\"2c6b05b4-3dea-437e-85b6-d6fd26465ccd\",\"type\":\"ColumnDataSource\"},{\"attributes\":{},\"id\":\"609655c7-ca0a-423a-a954-f4399ff7e1b1\",\"type\":\"Selection\"},{\"attributes\":{\"data_source\":{\"id\":\"5f5a8c6c-8687-4192-aa48-f8aa6e6ebcdb\",\"type\":\"ColumnDataSource\"},\"glyph\":{\"id\":\"c48cf889-1333-4f02-b9b9-47dcabe0bb11\",\"type\":\"Circle\"},\"hover_glyph\":null,\"muted_glyph\":null,\"nonselection_glyph\":{\"id\":\"b8b8b120-30d7-4df9-919b-208d14e0d65b\",\"type\":\"Circle\"},\"selection_glyph\":null,\"view\":{\"id\":\"495c8052-152a-4c48-8c3d-e63a2614b1ca\",\"type\":\"CDSView\"}},\"id\":\"bd77004f-0489-4dec-8f84-df0960786485\",\"type\":\"GlyphRenderer\"},{\"attributes\":{},\"id\":\"8c4d7994-41c3-4c45-a459-a1ba0ffab41a\",\"type\":\"SaveTool\"},{\"attributes\":{},\"id\":\"fa323ccb-57fd-41f8-8522-884d3656e065\",\"type\":\"UnionRenderers\"},{\"attributes\":{\"fill_color\":{\"value\":\"blue\"},\"line_color\":{\"value\":\"blue\"},\"x\":{\"field\":\"x\"},\"y\":{\"field\":\"y\"}},\"id\":\"38e529b8-e78d-4d85-bc5a-176b1ed6e178\",\"type\":\"Circle\"},{\"attributes\":{\"axis_label\":\"PC2 (4.34%)\",\"formatter\":{\"id\":\"4abadc12-fd9e-4b6a-89e7-431cf3a75ddf\",\"type\":\"BasicTickFormatter\"},\"plot\":{\"id\":\"390e51ff-5e3c-4937-b317-74c5a60029ce\",\"subtype\":\"Figure\",\"type\":\"Plot\"},\"ticker\":{\"id\":\"7fdb54ab-10a6-4b09-b51e-3b050fc3bb97\",\"type\":\"BasicTicker\"}},\"id\":\"c99f729d-8d33-4caf-8de5-d53abcd686b9\",\"type\":\"LinearAxis\"},{\"attributes\":{\"plot\":{\"id\":\"390e51ff-5e3c-4937-b317-74c5a60029ce\",\"subtype\":\"Figure\",\"type\":\"Plot\"},\"ticker\":{\"id\":\"039a5711-406b-4a5a-a42f-c8de30ced1c4\",\"type\":\"BasicTicker\"}},\"id\":\"8c2df2b2-e145-4505-987a-82c74afe4988\",\"type\":\"Grid\"},{\"attributes\":{},\"id\":\"1d874b4c-adce-4779-97b8-3ea94b8bb012\",\"type\":\"LinearScale\"},{\"attributes\":{},\"id\":\"ad0b799f-0136-47e4-8b25-ad01995ce2af\",\"type\":\"PanTool\"},{\"attributes\":{},\"id\":\"4abadc12-fd9e-4b6a-89e7-431cf3a75ddf\",\"type\":\"BasicTickFormatter\"},{\"attributes\":{},\"id\":\"0582132a-56c4-4ab9-b4cf-259ed9fb9b1c\",\"type\":\"WheelZoomTool\"},{\"attributes\":{},\"id\":\"7fdb54ab-10a6-4b09-b51e-3b050fc3bb97\",\"type\":\"BasicTicker\"},{\"attributes\":{\"active_drag\":\"auto\",\"active_inspect\":\"auto\",\"active_scroll\":\"auto\",\"active_tap\":\"auto\",\"tools\":[{\"id\":\"ad0b799f-0136-47e4-8b25-ad01995ce2af\",\"type\":\"PanTool\"},{\"id\":\"0582132a-56c4-4ab9-b4cf-259ed9fb9b1c\",\"type\":\"WheelZoomTool\"},{\"id\":\"2a316f43-749b-438b-bdac-d17e0e6e238a\",\"type\":\"BoxZoomTool\"},{\"id\":\"8c4d7994-41c3-4c45-a459-a1ba0ffab41a\",\"type\":\"SaveTool\"},{\"id\":\"c0456d6f-b7f4-495b-98c7-9a353993e75f\",\"type\":\"ResetTool\"},{\"id\":\"1e63ae9d-2b09-409b-bc14-bff773d7b7dc\",\"type\":\"HelpTool\"}]},\"id\":\"9a9bcbb2-3163-4ff0-8839-6b822fe59f97\",\"type\":\"Toolbar\"},{\"attributes\":{\"fill_alpha\":{\"value\":0.1},\"fill_color\":{\"value\":\"#1f77b4\"},\"line_alpha\":{\"value\":0.1},\"line_color\":{\"value\":\"#1f77b4\"},\"x\":{\"field\":\"x\"},\"y\":{\"field\":\"y\"}},\"id\":\"b8b8b120-30d7-4df9-919b-208d14e0d65b\",\"type\":\"Circle\"},{\"attributes\":{},\"id\":\"2da31b5d-fb5f-498f-835e-4f2c71c9b3a4\",\"type\":\"LinearScale\"},{\"attributes\":{\"below\":[{\"id\":\"819d78a8-e36f-497f-a1f1-9eaea3c71e05\",\"type\":\"LinearAxis\"}],\"left\":[{\"id\":\"c99f729d-8d33-4caf-8de5-d53abcd686b9\",\"type\":\"LinearAxis\"}],\"plot_height\":400,\"plot_width\":400,\"renderers\":[{\"id\":\"819d78a8-e36f-497f-a1f1-9eaea3c71e05\",\"type\":\"LinearAxis\"},{\"id\":\"8c2df2b2-e145-4505-987a-82c74afe4988\",\"type\":\"Grid\"},{\"id\":\"c99f729d-8d33-4caf-8de5-d53abcd686b9\",\"type\":\"LinearAxis\"},{\"id\":\"6a6dff96-2af8-4b2a-ac25-7dcdbf91f7d2\",\"type\":\"Grid\"},{\"id\":\"0da4ffd8-03dd-4d25-896c-a2cb21a991dc\",\"type\":\"BoxAnnotation\"},{\"id\":\"bd77004f-0489-4dec-8f84-df0960786485\",\"type\":\"GlyphRenderer\"},{\"id\":\"438675e5-f102-4891-8bcf-c2a9d3c48b11\",\"type\":\"GlyphRenderer\"}],\"title\":{\"id\":\"6cdf3505-a1b2-4907-ac0b-5aff466f3395\",\"type\":\"Title\"},\"toolbar\":{\"id\":\"9a9bcbb2-3163-4ff0-8839-6b822fe59f97\",\"type\":\"Toolbar\"},\"x_range\":{\"id\":\"29b236fa-aed7-4bee-8d07-f0d3fcb965a1\",\"type\":\"DataRange1d\"},\"x_scale\":{\"id\":\"1d874b4c-adce-4779-97b8-3ea94b8bb012\",\"type\":\"LinearScale\"},\"y_range\":{\"id\":\"e48717ee-bf3b-4969-8118-daa1b2c244ea\",\"type\":\"DataRange1d\"},\"y_scale\":{\"id\":\"2da31b5d-fb5f-498f-835e-4f2c71c9b3a4\",\"type\":\"LinearScale\"}},\"id\":\"390e51ff-5e3c-4937-b317-74c5a60029ce\",\"subtype\":\"Figure\",\"type\":\"Plot\"},{\"attributes\":{\"fill_color\":{\"value\":\"orange\"},\"line_color\":{\"value\":\"orange\"},\"x\":{\"field\":\"x\"},\"y\":{\"field\":\"y\"}},\"id\":\"c48cf889-1333-4f02-b9b9-47dcabe0bb11\",\"type\":\"Circle\"},{\"attributes\":{\"axis_label\":\"PC1 (8.19%)\",\"formatter\":{\"id\":\"d9d33ed3-0481-437f-ba80-47ea8a19d71e\",\"type\":\"BasicTickFormatter\"},\"plot\":{\"id\":\"390e51ff-5e3c-4937-b317-74c5a60029ce\",\"subtype\":\"Figure\",\"type\":\"Plot\"},\"ticker\":{\"id\":\"039a5711-406b-4a5a-a42f-c8de30ced1c4\",\"type\":\"BasicTicker\"}},\"id\":\"819d78a8-e36f-497f-a1f1-9eaea3c71e05\",\"type\":\"LinearAxis\"},{\"attributes\":{\"bottom_units\":\"screen\",\"fill_alpha\":{\"value\":0.5},\"fill_color\":{\"value\":\"lightgrey\"},\"left_units\":\"screen\",\"level\":\"overlay\",\"line_alpha\":{\"value\":1.0},\"line_color\":{\"value\":\"black\"},\"line_dash\":[4,4],\"line_width\":{\"value\":2},\"plot\":null,\"render_mode\":\"css\",\"right_units\":\"screen\",\"top_units\":\"screen\"},\"id\":\"0da4ffd8-03dd-4d25-896c-a2cb21a991dc\",\"type\":\"BoxAnnotation\"},{\"attributes\":{\"callback\":null},\"id\":\"29b236fa-aed7-4bee-8d07-f0d3fcb965a1\",\"type\":\"DataRange1d\"},{\"attributes\":{},\"id\":\"039a5711-406b-4a5a-a42f-c8de30ced1c4\",\"type\":\"BasicTicker\"},{\"attributes\":{\"dimension\":1,\"plot\":{\"id\":\"390e51ff-5e3c-4937-b317-74c5a60029ce\",\"subtype\":\"Figure\",\"type\":\"Plot\"},\"ticker\":{\"id\":\"7fdb54ab-10a6-4b09-b51e-3b050fc3bb97\",\"type\":\"BasicTicker\"}},\"id\":\"6a6dff96-2af8-4b2a-ac25-7dcdbf91f7d2\",\"type\":\"Grid\"},{\"attributes\":{\"data_source\":{\"id\":\"2c6b05b4-3dea-437e-85b6-d6fd26465ccd\",\"type\":\"ColumnDataSource\"},\"glyph\":{\"id\":\"38e529b8-e78d-4d85-bc5a-176b1ed6e178\",\"type\":\"Circle\"},\"hover_glyph\":null,\"muted_glyph\":null,\"nonselection_glyph\":{\"id\":\"ca1a5fd6-322b-4699-9f7f-c77e4d41f869\",\"type\":\"Circle\"},\"selection_glyph\":null,\"view\":{\"id\":\"d819e735-b24e-4248-861f-06dd05f4e277\",\"type\":\"CDSView\"}},\"id\":\"438675e5-f102-4891-8bcf-c2a9d3c48b11\",\"type\":\"GlyphRenderer\"},{\"attributes\":{\"source\":{\"id\":\"2c6b05b4-3dea-437e-85b6-d6fd26465ccd\",\"type\":\"ColumnDataSource\"}},\"id\":\"d819e735-b24e-4248-861f-06dd05f4e277\",\"type\":\"CDSView\"},{\"attributes\":{},\"id\":\"1e63ae9d-2b09-409b-bc14-bff773d7b7dc\",\"type\":\"HelpTool\"},{\"attributes\":{\"source\":{\"id\":\"5f5a8c6c-8687-4192-aa48-f8aa6e6ebcdb\",\"type\":\"ColumnDataSource\"}},\"id\":\"495c8052-152a-4c48-8c3d-e63a2614b1ca\",\"type\":\"CDSView\"},{\"attributes\":{\"callback\":null,\"data\":{\"x\":{\"__ndarray__\":\"s4dscZTUFsCsUR4MMntMQEacKLQ+z0dAZjHJmj/mKMDavt88hvAvQPepnplzfeQ/iRqKdbXJRUDD41gKeYQzQOEzq9HxPkdAof95CJrpUUCXVoj1RC9SQFRDbl6DGfW//wiVFHpZJEDanZ+ntBVJQPXwzwnJIlNAD4fQrjFbQkApN+KVnwFMQJZQEet7gUJAB8OIkj+NPkA6POlDoostwF2LPGBkvxtAb0MN5dbzFEBG8wS/hXFOQNvWE0osDk1AAx0Rr8ddOEBhAMw5xFA0QMbOy//t9VFAuP2PyC4xN0C918OCG0c4QNvLJkWY3EFAWeQZTmXUSUB6OcmTg1E5QP7aMVQ/kSHA3uDhUYTsDkBfqygeHqg1QBm4Scy720JAYGv9cKPgREC3MSH71K8tQLpNrTITFlRAHXxspr3+SEDjaqfxTofxv1Zkp2gpcSNAyZ7O8pNKUEDDp6vqvAxQQO/AHnRFIlNA\",\"dtype\":\"float64\",\"shape\":[45]},\"y\":{\"__ndarray__\":\"5PVobXIYNEAbI7kdXVw2wEpKDc6nBgHAtMNFMWd/NMAQK6V1J5EJwB7i+V5UxxZA8RXRZPOeIcBhsnMT6sE3wJFnXaFJpxhAhHAj30TDz7/KqmMKc+w9wH/oBR/sckJAJuQKfyZNL0B5ResFsvEoQF959I4Mn0PAoDzn6xhBNkB4LAS7Jfk1wDIPw4n7pChAzQEh+La0F8DzZ9i1DoIowBGmZti8ByRA6Nnjzr/EQsAKobWnnulFQG7mTrGWVzTA9GZR60VCFkCj1E4NSO1BQORR0RpiqwrArZcb6qPaTUBb9JxAoDQ8QETAWzE+bjNAbjnJ9riZNUDio8BMqBFGQJr/aX26KUNALA4ZgbopSUBeJV1jAgM1QH555P1vjyxAc92EhwMyRUBzj8fL9JlDQF+DmsrFiBVA58tVN1cLQMAVcmzzh0k/QDILsl0qHyhAZg3FVBo0OcDfvGZhQ6Y2wHad6WtZ/hjA\",\"dtype\":\"float64\",\"shape\":[45]}},\"selected\":{\"id\":\"6a0308b0-15ee-4b19-85fd-d89463b3e43c\",\"type\":\"Selection\"},\"selection_policy\":{\"id\":\"fa323ccb-57fd-41f8-8522-884d3656e065\",\"type\":\"UnionRenderers\"}},\"id\":\"5f5a8c6c-8687-4192-aa48-f8aa6e6ebcdb\",\"type\":\"ColumnDataSource\"},{\"attributes\":{\"overlay\":{\"id\":\"0da4ffd8-03dd-4d25-896c-a2cb21a991dc\",\"type\":\"BoxAnnotation\"}},\"id\":\"2a316f43-749b-438b-bdac-d17e0e6e238a\",\"type\":\"BoxZoomTool\"}],\"root_ids\":[\"390e51ff-5e3c-4937-b317-74c5a60029ce\"]},\"title\":\"Bokeh Application\",\"version\":\"0.12.16\"}};\n",
       "  var render_items = [{\"docid\":\"8569d5e9-157c-4830-b35b-978236e6dc15\",\"elementid\":\"d0c9488f-b9af-4105-b2c0-dd93310660ef\",\"modelid\":\"390e51ff-5e3c-4937-b317-74c5a60029ce\"}];\n",
       "  root.Bokeh.embed.embed_items_notebook(docs_json, render_items);\n",
       "\n",
       "  }\n",
       "  if (root.Bokeh !== undefined) {\n",
       "    embed_document(root);\n",
       "  } else {\n",
       "    var attempts = 0;\n",
       "    var timer = setInterval(function(root) {\n",
       "      if (root.Bokeh !== undefined) {\n",
       "        embed_document(root);\n",
       "        clearInterval(timer);\n",
       "      }\n",
       "      attempts++;\n",
       "      if (attempts > 100) {\n",
       "        console.log(\"Bokeh: ERROR: Unable to run BokehJS code because BokehJS library is missing\")\n",
       "        clearInterval(timer);\n",
       "      }\n",
       "    }, 10, root)\n",
       "  }\n",
       "})(window);"
      ],
      "application/vnd.bokehjs_exec.v0+json": ""
     },
     "metadata": {
      "application/vnd.bokehjs_exec.v0+json": {
       "id": "390e51ff-5e3c-4937-b317-74c5a60029ce"
      }
     },
     "output_type": "display_data"
    }
   ],
   "source": [
    "vars = pca.explained_variance_ratio_\n",
    "p = figure(plot_width=400, plot_height=400, title=\"PCA of Train data\")\n",
    "p.circle(z_tr[y_tr==0, 0], z_tr[y_tr==0, 1], line_color=\"orange\", fill_color=\"orange\")\n",
    "p.circle(z_tr[y_tr==1, 0], z_tr[y_tr==1, 1], line_color=\"blue\", fill_color=\"blue\")\n",
    "p.xaxis.axis_label = \"PC1 (%.2f%%)\" % (100*vars[0])\n",
    "p.yaxis.axis_label = \"PC2 (%.2f%%)\" % (100*vars[1])\n",
    "show(p)\n"
   ]
  },
  {
   "cell_type": "markdown",
   "metadata": {
    "colab_type": "text",
    "id": "1GHx_kFZ6k5T"
   },
   "source": [
    "_Now apply the transformation to the test data and plot it._"
   ]
  },
  {
   "cell_type": "code",
   "execution_count": 32,
   "metadata": {},
   "outputs": [
    {
     "data": {
      "text/html": [
       "\n",
       "<div class=\"bk-root\">\n",
       "    <div class=\"bk-plotdiv\" id=\"ecbd62b0-3e13-4340-8ac1-4971af0727b5\"></div>\n",
       "</div>"
      ]
     },
     "metadata": {},
     "output_type": "display_data"
    },
    {
     "data": {
      "application/javascript": [
       "(function(root) {\n",
       "  function embed_document(root) {\n",
       "    \n",
       "  var docs_json = {\"9462ff19-ef8a-43b7-bc28-c2ae0b0ca382\":{\"roots\":{\"references\":[{\"attributes\":{},\"id\":\"b378cb1e-4305-4c29-a742-a30eacc219c4\",\"type\":\"PanTool\"},{\"attributes\":{\"bottom_units\":\"screen\",\"fill_alpha\":{\"value\":0.5},\"fill_color\":{\"value\":\"lightgrey\"},\"left_units\":\"screen\",\"level\":\"overlay\",\"line_alpha\":{\"value\":1.0},\"line_color\":{\"value\":\"black\"},\"line_dash\":[4,4],\"line_width\":{\"value\":2},\"plot\":null,\"render_mode\":\"css\",\"right_units\":\"screen\",\"top_units\":\"screen\"},\"id\":\"2089e332-ca04-4e4d-bbe0-b5b0bbd065db\",\"type\":\"BoxAnnotation\"},{\"attributes\":{\"active_drag\":\"auto\",\"active_inspect\":\"auto\",\"active_scroll\":\"auto\",\"active_tap\":\"auto\",\"tools\":[{\"id\":\"b378cb1e-4305-4c29-a742-a30eacc219c4\",\"type\":\"PanTool\"},{\"id\":\"43630d74-5f58-4a69-b8cc-09b48ec548bc\",\"type\":\"WheelZoomTool\"},{\"id\":\"2cfc85ae-c3f1-433a-a8af-2f294f9e339c\",\"type\":\"BoxZoomTool\"},{\"id\":\"0d7d47eb-f357-4219-be39-7f6c3913df48\",\"type\":\"SaveTool\"},{\"id\":\"8783b23a-5b83-442b-baae-22d06a3d77de\",\"type\":\"ResetTool\"},{\"id\":\"83816b07-f311-491a-8543-c26247ea8a36\",\"type\":\"HelpTool\"}]},\"id\":\"ada31b3a-3c21-46c4-9768-41986fcef0ea\",\"type\":\"Toolbar\"},{\"attributes\":{},\"id\":\"43630d74-5f58-4a69-b8cc-09b48ec548bc\",\"type\":\"WheelZoomTool\"},{\"attributes\":{\"overlay\":{\"id\":\"2089e332-ca04-4e4d-bbe0-b5b0bbd065db\",\"type\":\"BoxAnnotation\"}},\"id\":\"2cfc85ae-c3f1-433a-a8af-2f294f9e339c\",\"type\":\"BoxZoomTool\"},{\"attributes\":{},\"id\":\"0d7d47eb-f357-4219-be39-7f6c3913df48\",\"type\":\"SaveTool\"},{\"attributes\":{\"callback\":null},\"id\":\"eb051b83-72e5-4188-b22d-798ba987aab6\",\"type\":\"DataRange1d\"},{\"attributes\":{},\"id\":\"8783b23a-5b83-442b-baae-22d06a3d77de\",\"type\":\"ResetTool\"},{\"attributes\":{},\"id\":\"28f202ff-4ff3-4908-8881-242f880d380f\",\"type\":\"UnionRenderers\"},{\"attributes\":{\"axis_label\":\"PC2 (4.34%)\",\"formatter\":{\"id\":\"ebe9c16d-612d-4f7b-bbac-a61ecdc4d0f1\",\"type\":\"BasicTickFormatter\"},\"plot\":{\"id\":\"3b01317b-4560-4a65-ba6d-7e2742aa01c3\",\"subtype\":\"Figure\",\"type\":\"Plot\"},\"ticker\":{\"id\":\"0066e7da-e2c2-41e8-a3fe-3990150548a4\",\"type\":\"BasicTicker\"}},\"id\":\"313df7bc-1e81-4fb1-8f77-7f2be3aa608f\",\"type\":\"LinearAxis\"},{\"attributes\":{},\"id\":\"83816b07-f311-491a-8543-c26247ea8a36\",\"type\":\"HelpTool\"},{\"attributes\":{},\"id\":\"ebe9c16d-612d-4f7b-bbac-a61ecdc4d0f1\",\"type\":\"BasicTickFormatter\"},{\"attributes\":{\"fill_alpha\":{\"value\":0.1},\"fill_color\":{\"value\":\"#1f77b4\"},\"line_alpha\":{\"value\":0.1},\"line_color\":{\"value\":\"#1f77b4\"},\"x\":{\"field\":\"x\"},\"y\":{\"field\":\"y\"}},\"id\":\"c0b5b80d-9461-4c9a-8149-4f73129df83c\",\"type\":\"Circle\"},{\"attributes\":{\"data_source\":{\"id\":\"024379a1-fd21-4dd2-b715-dfb296d7e044\",\"type\":\"ColumnDataSource\"},\"glyph\":{\"id\":\"0870a187-f7e5-4cd6-8d42-55f96bb5461c\",\"type\":\"Circle\"},\"hover_glyph\":null,\"muted_glyph\":null,\"nonselection_glyph\":{\"id\":\"c0b5b80d-9461-4c9a-8149-4f73129df83c\",\"type\":\"Circle\"},\"selection_glyph\":null,\"view\":{\"id\":\"d29987fe-1bd6-4fc5-9a14-95d3cca6b413\",\"type\":\"CDSView\"}},\"id\":\"7cbf1114-36ef-4d48-b794-ff9274370312\",\"type\":\"GlyphRenderer\"},{\"attributes\":{\"source\":{\"id\":\"024379a1-fd21-4dd2-b715-dfb296d7e044\",\"type\":\"ColumnDataSource\"}},\"id\":\"d29987fe-1bd6-4fc5-9a14-95d3cca6b413\",\"type\":\"CDSView\"},{\"attributes\":{\"callback\":null,\"data\":{\"x\":{\"__ndarray__\":\"Da7fNG/ZJkBX5akTCONLQGb3T+26HENA3OF45a/OJ0A+JQtYuggxwMYlG5/G+xdApYP2gR10I0A3HiM2XrNBQNiOs4ipuhdAMafuYwmhPED949T2x+grQDrwNWw3Eh5Axip2+RdmOkBJaK26QqNMQLygwDyKsEVAooGu1FToMcBt/YFUOrkrQEdMTS6sgzpAge2H7Ye+TUAPRy+5QxVPQMEVm/y+ODlAmKTj5CPNTUAW77J6yXFKQFzxE58baUVAYpWdPdxUKkAGJqtYjfdBQE1u1lwi4EZAMnZzibN0SECqWw5yqmxKQN1ek4f7K0FAysHtN/+MOkAN0LlLVmg0QNMNQXxgUUFAPd/CO/QrVEC95q9DZpMrQHT8e3lxmATAHRhOYh5/PkCmr3vvifUyQCxme02yAzVATeUPDNgyQEC6639iDPEsQGogX/VFfUZAyDbFMA1qT0ARGOcQsxs2QFcOicPHYTpAUIm5K/zeQkA=\",\"dtype\":\"float64\",\"shape\":[46]},\"y\":{\"__ndarray__\":\"0xj+K4X0BkAj47n5AJ81wF5jdJKTKDvADYnUrxgY+T9yGkH3vuk6QHNMAWPEpS5ABHLTkA6hL0DfG3VYvrQhQDA7ukLW8RvAXWkywkuLMkAdV8lfgP4sQAz1wqSZXRtACVDi38HRBsCTlfU106YEQOVgO6PDxijAHohBcumMQEC40j2lqLAjwFuxwupljR7Atk0pha0OIsCvBQh9al4uwGTcLA36tA1AuclownL4OMC2keS665cwwJWuUjRjpRpA7v2Egz3IAcDvyCxRfnMkwOJMp66qwzDA0Z6z+SVPMMD/VDyPhj0zwKD2HyVJ4R3A+bJ3Rma6EEAkodSlxMRBQD/zIkvPa01AKBCUmVGLEsB2JCFLCfQwwAfmxFWGqkZAWzW/3xqtHUBRaZkJWDUtQKg8OGl9bSlAAORyNSRh0D+BmYhY9QkgQOYI4pwItTHA5eLVdfOlI8CAgsx3axhJQKYfJ+x0iytAeYCv7TRIFMA=\",\"dtype\":\"float64\",\"shape\":[46]}},\"selected\":{\"id\":\"b59c2931-86f7-4e88-9cd4-edf5927916ba\",\"type\":\"Selection\"},\"selection_policy\":{\"id\":\"670bdd62-8431-437d-a621-aeb874396b4a\",\"type\":\"UnionRenderers\"}},\"id\":\"09cd2f5d-a2e5-461b-a5ae-763b5682b3a7\",\"type\":\"ColumnDataSource\"},{\"attributes\":{},\"id\":\"865697d8-682e-4995-8a94-bc9eb4deac4f\",\"type\":\"BasicTickFormatter\"},{\"attributes\":{},\"id\":\"047e2375-f530-4bbb-ba68-2e759bb40ac2\",\"type\":\"LinearScale\"},{\"attributes\":{\"dimension\":1,\"plot\":{\"id\":\"3b01317b-4560-4a65-ba6d-7e2742aa01c3\",\"subtype\":\"Figure\",\"type\":\"Plot\"},\"ticker\":{\"id\":\"0066e7da-e2c2-41e8-a3fe-3990150548a4\",\"type\":\"BasicTicker\"}},\"id\":\"11436559-e5fa-4e94-93d1-3e57f22d24b8\",\"type\":\"Grid\"},{\"attributes\":{},\"id\":\"0066e7da-e2c2-41e8-a3fe-3990150548a4\",\"type\":\"BasicTicker\"},{\"attributes\":{\"fill_color\":{\"value\":\"blue\"},\"line_color\":{\"value\":\"blue\"},\"x\":{\"field\":\"x\"},\"y\":{\"field\":\"y\"}},\"id\":\"0870a187-f7e5-4cd6-8d42-55f96bb5461c\",\"type\":\"Circle\"},{\"attributes\":{},\"id\":\"670bdd62-8431-437d-a621-aeb874396b4a\",\"type\":\"UnionRenderers\"},{\"attributes\":{\"axis_label\":\"PC1 (8.19%)\",\"formatter\":{\"id\":\"865697d8-682e-4995-8a94-bc9eb4deac4f\",\"type\":\"BasicTickFormatter\"},\"plot\":{\"id\":\"3b01317b-4560-4a65-ba6d-7e2742aa01c3\",\"subtype\":\"Figure\",\"type\":\"Plot\"},\"ticker\":{\"id\":\"13528d4a-0f2e-4629-810d-2de948b9833f\",\"type\":\"BasicTicker\"}},\"id\":\"ace706a4-075f-4d90-9264-d4abce004f08\",\"type\":\"LinearAxis\"},{\"attributes\":{\"fill_color\":{\"value\":\"orange\"},\"line_color\":{\"value\":\"orange\"},\"x\":{\"field\":\"x\"},\"y\":{\"field\":\"y\"}},\"id\":\"2148dbde-ad02-4142-9239-9de7ea263ed6\",\"type\":\"Circle\"},{\"attributes\":{\"fill_alpha\":{\"value\":0.1},\"fill_color\":{\"value\":\"#1f77b4\"},\"line_alpha\":{\"value\":0.1},\"line_color\":{\"value\":\"#1f77b4\"},\"x\":{\"field\":\"x\"},\"y\":{\"field\":\"y\"}},\"id\":\"433ed932-afd7-4e0f-be6c-491087a7c97b\",\"type\":\"Circle\"},{\"attributes\":{},\"id\":\"b6e5b1cd-5027-43e0-bbcd-21b12cddfb98\",\"type\":\"Selection\"},{\"attributes\":{\"source\":{\"id\":\"09cd2f5d-a2e5-461b-a5ae-763b5682b3a7\",\"type\":\"ColumnDataSource\"}},\"id\":\"f5749626-f5b9-45b3-aca3-6cc155bb7359\",\"type\":\"CDSView\"},{\"attributes\":{\"below\":[{\"id\":\"ace706a4-075f-4d90-9264-d4abce004f08\",\"type\":\"LinearAxis\"}],\"left\":[{\"id\":\"313df7bc-1e81-4fb1-8f77-7f2be3aa608f\",\"type\":\"LinearAxis\"}],\"plot_height\":400,\"plot_width\":400,\"renderers\":[{\"id\":\"ace706a4-075f-4d90-9264-d4abce004f08\",\"type\":\"LinearAxis\"},{\"id\":\"a6b68a1a-d626-4b97-9940-8b8f461e18e9\",\"type\":\"Grid\"},{\"id\":\"313df7bc-1e81-4fb1-8f77-7f2be3aa608f\",\"type\":\"LinearAxis\"},{\"id\":\"11436559-e5fa-4e94-93d1-3e57f22d24b8\",\"type\":\"Grid\"},{\"id\":\"2089e332-ca04-4e4d-bbe0-b5b0bbd065db\",\"type\":\"BoxAnnotation\"},{\"id\":\"cbbce434-c409-4019-9255-e686122e7422\",\"type\":\"GlyphRenderer\"},{\"id\":\"7cbf1114-36ef-4d48-b794-ff9274370312\",\"type\":\"GlyphRenderer\"}],\"title\":{\"id\":\"6279164d-1d6c-4095-854d-88f37333827c\",\"type\":\"Title\"},\"toolbar\":{\"id\":\"ada31b3a-3c21-46c4-9768-41986fcef0ea\",\"type\":\"Toolbar\"},\"x_range\":{\"id\":\"eb051b83-72e5-4188-b22d-798ba987aab6\",\"type\":\"DataRange1d\"},\"x_scale\":{\"id\":\"047e2375-f530-4bbb-ba68-2e759bb40ac2\",\"type\":\"LinearScale\"},\"y_range\":{\"id\":\"c0fa0dd3-f4e4-49e9-824b-04b94b09c30d\",\"type\":\"DataRange1d\"},\"y_scale\":{\"id\":\"b93b4687-55cb-4723-b5d6-eefbdbc61cb5\",\"type\":\"LinearScale\"}},\"id\":\"3b01317b-4560-4a65-ba6d-7e2742aa01c3\",\"subtype\":\"Figure\",\"type\":\"Plot\"},{\"attributes\":{\"callback\":null,\"data\":{\"x\":{\"__ndarray__\":\"r3w6U3SjJ0DUrHUEWwYkwAu5NkMDryzApf8P/LV5db/IoqlpbWrwv0zupfqjHjzA9RSNE3jNMMC5cLjOP0MywH+kgXg94TPAz8qB7l6zPMDJ9ynKS6svwNLGRQH86jfAqxBnOSVjN8CoR1n89OctwMZAbcLoeDDAJAOO5gVSOsB8TDRF2D4hwJiKdI/vKTvAt1G91TIWNMA9DUD/pgI3wLYCFzMfHjvADEaeCywkP8CEGhQoAzY7wOrsaWWp/BzASbNkLoiIEUBewxoBJXgjwMmHrt8RdjnA0xVIqQGmKsBt5jHDBqkxwDIx/MPH6C7A2hnXGz4dOMAIG9wlcJMywHMhIlPG3TbARgBEURUFMcAtuQm/tSo6wPIkWF2PXxHAwB8iildEGsAhZqoc85oSwHjZ6qmVASPAo0JkkntYL8DyssBNLkr+v9oMLbXiZAHApZynzZufMcAcnCozufoWwBZm+cvvIzTAGFdZCJnVHsD5DDkxgN0wwJCw34QumgpAGiekI8YsGsCBgbtsL5MVwDOEjb6m/ifA2FN021gc8b/+cPYWFB41wHCof4xkvA9AunONx7IU/j8QIkn5Uc0XwBMDeb+22TLAbbHQbAGINcCc56Gka4UkQEaSs6jExRfAQ2Rm6nX+E8Aygw3i/Jg+wFvDT4b7ETjAvcph6n3EJMB+oROCWDIwwLNafEw9gjXAPEH31mFQIkAS1iZmRXQmwHOO1GGUqCbAyG/3OacCJkDgUz+tTB0wwCebB6XlQTvAun7vb8FrMECdzwJk0jEaQEBGGtxlNiNAShaM6+6eM8Bhg0u8k84qwHFnjJlJKRjAmFL71tc9L8BDMq8KuwcCwP1Mr9ksGTbAN7pzPNlxJ8Dv0JBWDTopwFaYeNfQ8QxAlC81+uCuB0AHplt3Wy8iwDsANum4NC7AG0HcvSHU/z/yJkWef38rwF8/axTE8zTA\",\"dtype\":\"float64\",\"shape\":[90]},\"y\":{\"__ndarray__\":\"SWUjdYr7NsDo+b7zK98wwO6/jNPo9UJAVLbT5VVOMsC5J3kLJ64EwHhYKMgP8jNAOpduok2xDEDJR2L4hSc6wLcToAhvyBZAuNflTzbWN0BI42WEsLi0Pzjx3mwRjj5A2kzr8MvdEEB56rgQK6FDQGmcsHhGHzDAbris1N55A0AbtDZQIz1FQHOi2D3csTpANdiP7TXs3j8Z5RGT4qwhQM3djMzvEDXAX8viTKahIcAc4ooutsgrQKpa+xXcrj3AifRXPwh2NMC5g/0KDRw+wFTiOgS64BzA2hz24SMzJ0CPzGORhOodwN1dV9V3CTPAJgdGvuGmMsAmyI7fZ5UgwI9VAqkN3TbADWiV8x/oNMBUIWjjOGEiwK1mo0ej2jDAsZEGkKn0N8A1n4hOCYgVwKzDUpkIkhrAW5SrbihEJMBSWbTo67YqwF96hNfTvUDA1DbBDIQAMMAuRHoBlxIpQK0e9jzx6yvAfUue6Cyo9D9Pv3T05iIcQNHoYMbrnSXAHpTTVS9LMMCV8dsSI/86wHuH/f8eWu+/vLb93/fI1b/SrRYuFOIbwOMpZfkicDTA1qX/rCyLD0A50KAlgzkdwFrZjcvzjy7AuW5trUo3OcB412aUvN4wwFNAiowmNDPA0a6usI4SNsC6TtZ+RxIwQE18eW94UwFAIt9RIUhjOsDwdMdd9Kf1v1RcoV51DyPAfICZnZRwPMDXXe8LoccjwL66BpG1cSDAy2dDbRfYPcDJUT2syyUkwCfagVpxjA7A6jieVvCuMsA0UCdn4QveP7mtbaCun0FAR3Q0rDaVGkCdXkqBonY8wNpkNa58QEDAvBHzX6VgJ8CY11/mMonwP4bjmMMO7EFAYx4CNC8CKcCrQVToFFchwGginsyiFRZAdwqSlEbLLsD/4NE1CjgHQLMqgNLOPfa/Pju88sHEO8DUT+l5sI4jQHjJaGgQqUBA\",\"dtype\":\"float64\",\"shape\":[90]}},\"selected\":{\"id\":\"b6e5b1cd-5027-43e0-bbcd-21b12cddfb98\",\"type\":\"Selection\"},\"selection_policy\":{\"id\":\"28f202ff-4ff3-4908-8881-242f880d380f\",\"type\":\"UnionRenderers\"}},\"id\":\"024379a1-fd21-4dd2-b715-dfb296d7e044\",\"type\":\"ColumnDataSource\"},{\"attributes\":{\"data_source\":{\"id\":\"09cd2f5d-a2e5-461b-a5ae-763b5682b3a7\",\"type\":\"ColumnDataSource\"},\"glyph\":{\"id\":\"2148dbde-ad02-4142-9239-9de7ea263ed6\",\"type\":\"Circle\"},\"hover_glyph\":null,\"muted_glyph\":null,\"nonselection_glyph\":{\"id\":\"433ed932-afd7-4e0f-be6c-491087a7c97b\",\"type\":\"Circle\"},\"selection_glyph\":null,\"view\":{\"id\":\"f5749626-f5b9-45b3-aca3-6cc155bb7359\",\"type\":\"CDSView\"}},\"id\":\"cbbce434-c409-4019-9255-e686122e7422\",\"type\":\"GlyphRenderer\"},{\"attributes\":{\"plot\":{\"id\":\"3b01317b-4560-4a65-ba6d-7e2742aa01c3\",\"subtype\":\"Figure\",\"type\":\"Plot\"},\"ticker\":{\"id\":\"13528d4a-0f2e-4629-810d-2de948b9833f\",\"type\":\"BasicTicker\"}},\"id\":\"a6b68a1a-d626-4b97-9940-8b8f461e18e9\",\"type\":\"Grid\"},{\"attributes\":{},\"id\":\"13528d4a-0f2e-4629-810d-2de948b9833f\",\"type\":\"BasicTicker\"},{\"attributes\":{},\"id\":\"b93b4687-55cb-4723-b5d6-eefbdbc61cb5\",\"type\":\"LinearScale\"},{\"attributes\":{\"callback\":null},\"id\":\"c0fa0dd3-f4e4-49e9-824b-04b94b09c30d\",\"type\":\"DataRange1d\"},{\"attributes\":{},\"id\":\"b59c2931-86f7-4e88-9cd4-edf5927916ba\",\"type\":\"Selection\"},{\"attributes\":{\"plot\":null,\"text\":\"PCA of Test data\"},\"id\":\"6279164d-1d6c-4095-854d-88f37333827c\",\"type\":\"Title\"}],\"root_ids\":[\"3b01317b-4560-4a65-ba6d-7e2742aa01c3\"]},\"title\":\"Bokeh Application\",\"version\":\"0.12.16\"}};\n",
       "  var render_items = [{\"docid\":\"9462ff19-ef8a-43b7-bc28-c2ae0b0ca382\",\"elementid\":\"ecbd62b0-3e13-4340-8ac1-4971af0727b5\",\"modelid\":\"3b01317b-4560-4a65-ba6d-7e2742aa01c3\"}];\n",
       "  root.Bokeh.embed.embed_items_notebook(docs_json, render_items);\n",
       "\n",
       "  }\n",
       "  if (root.Bokeh !== undefined) {\n",
       "    embed_document(root);\n",
       "  } else {\n",
       "    var attempts = 0;\n",
       "    var timer = setInterval(function(root) {\n",
       "      if (root.Bokeh !== undefined) {\n",
       "        embed_document(root);\n",
       "        clearInterval(timer);\n",
       "      }\n",
       "      attempts++;\n",
       "      if (attempts > 100) {\n",
       "        console.log(\"Bokeh: ERROR: Unable to run BokehJS code because BokehJS library is missing\")\n",
       "        clearInterval(timer);\n",
       "      }\n",
       "    }, 10, root)\n",
       "  }\n",
       "})(window);"
      ],
      "application/vnd.bokehjs_exec.v0+json": ""
     },
     "metadata": {
      "application/vnd.bokehjs_exec.v0+json": {
       "id": "3b01317b-4560-4a65-ba6d-7e2742aa01c3"
      }
     },
     "output_type": "display_data"
    }
   ],
   "source": [
    "## exercise here\n",
    "z_ts = pca.transform(x_ts)\n",
    "vars = pca.explained_variance_ratio_\n",
    "p = figure(plot_width=400, plot_height=400, title=\"PCA of Test data\")\n",
    "p.circle(z_ts[y_ts==0, 0], z_ts[y_ts==0, 1], line_color=\"orange\", fill_color=\"orange\")\n",
    "p.circle(z_ts[y_ts==1, 0], z_ts[y_ts==1, 1], line_color=\"blue\", fill_color=\"blue\")\n",
    "p.xaxis.axis_label = \"PC1 (%.2f%%)\" % (100*vars[0])\n",
    "p.yaxis.axis_label = \"PC2 (%.2f%%)\" % (100*vars[1])\n",
    "show(p)"
   ]
  },
  {
   "cell_type": "markdown",
   "metadata": {
    "colab_type": "text",
    "id": "FErPMN8F6sb9"
   },
   "source": [
    "# Supervised Learning"
   ]
  },
  {
   "cell_type": "markdown",
   "metadata": {
    "colab_type": "text",
    "id": "T7xRxdjO6vTY"
   },
   "source": [
    "## k-NN classifier"
   ]
  },
  {
   "cell_type": "markdown",
   "metadata": {
    "colab_type": "text",
    "id": "LnHfIehl62Js"
   },
   "source": [
    "Based on the PCA we built on our data, we decide to try some supervised learning on them.\n",
    "\n",
    "Scikit-learn provides you access to several models via a very convenient _fit_ and _predict_ interface.\n",
    "\n",
    "For example, let's fit a **k-NN** model on the whole training data and then use it to predict the labels of the test data."
   ]
  },
  {
   "cell_type": "code",
   "execution_count": 29,
   "metadata": {
    "colab": {},
    "colab_type": "code",
    "id": "6P24VUwQk3XG"
   },
   "outputs": [],
   "source": [
    "knn = neighbors.KNeighborsClassifier(n_neighbors=10)"
   ]
  },
  {
   "cell_type": "code",
   "execution_count": 30,
   "metadata": {
    "colab": {},
    "colab_type": "code",
    "id": "Cg8TpDATk3XI",
    "outputId": "e9658389-474c-4bf5-f196-11d4518311b7"
   },
   "outputs": [
    {
     "data": {
      "text/plain": [
       "KNeighborsClassifier(algorithm='auto', leaf_size=30, metric='minkowski',\n",
       "           metric_params=None, n_jobs=1, n_neighbors=10, p=2,\n",
       "           weights='uniform')"
      ]
     },
     "execution_count": 30,
     "metadata": {},
     "output_type": "execute_result"
    }
   ],
   "source": [
    "knn.fit(x_tr, y_tr)"
   ]
  },
  {
   "cell_type": "code",
   "execution_count": 31,
   "metadata": {
    "colab": {},
    "colab_type": "code",
    "id": "B5pHIVW2k3XM"
   },
   "outputs": [],
   "source": [
    "y_pred_knn = knn.predict(x_ts) # predict labels on test data"
   ]
  },
  {
   "cell_type": "markdown",
   "metadata": {
    "colab_type": "text",
    "id": "Crr_2DwX7f1Z"
   },
   "source": [
    "_In general, a classifier has **parameters** that need to be tuned. Default choices are not good in all situations._\n",
    "\n",
    "_For example, in k-NN the main parameter is the **number of neighbors** used in the nearest neighbors algorithm._\n",
    "\n",
    "_More on this in the next lecture!_"
   ]
  },
  {
   "cell_type": "markdown",
   "metadata": {
    "colab_type": "text",
    "id": "aBsDZNnXk3XP"
   },
   "source": [
    "To evaluate the predictions we need some kind of metrics. \n",
    "\n",
    "Exercise: extract confusion matrix and try calculate metrics by hand."
   ]
  },
  {
   "cell_type": "markdown",
   "metadata": {
    "colab_type": "text",
    "id": "L88ilJJG-Cnf"
   },
   "source": [
    "### Recap: confusion matrix\n",
    "\n",
    "In this example, the first row is class 0, so the confusion matrix will look like:\n",
    "\n",
    "|      |  |  Predicted  |    |\n",
    "|------|-----------|----|----|\n",
    "|      |           | 0 | 1  |\n",
    "| True | 0        | TN | FP |\n",
    "|      | 1         | FN | TP |\n"
   ]
  },
  {
   "cell_type": "code",
   "execution_count": 33,
   "metadata": {
    "colab": {},
    "colab_type": "code",
    "id": "JISD2EVQ9Q9Z"
   },
   "outputs": [
    {
     "data": {
      "text/plain": [
       "array([[27, 19],\n",
       "       [ 0, 90]])"
      ]
     },
     "execution_count": 33,
     "metadata": {},
     "output_type": "execute_result"
    }
   ],
   "source": [
    "from sklearn.metrics import confusion_matrix\n",
    "conf = confusion_matrix(y_ts, y_pred_knn)\n",
    "conf"
   ]
  },
  {
   "cell_type": "markdown",
   "metadata": {
    "colab_type": "text",
    "id": "Kh9MqHB5cC43"
   },
   "source": [
    "The total number of class 0 test samples (AN = All Negatives) should be equal to the sum of the first row of the confusion matrix, i.e., TN + FP:"
   ]
  },
  {
   "cell_type": "code",
   "execution_count": 34,
   "metadata": {
    "colab": {},
    "colab_type": "code",
    "id": "pZVN8GKKdOhy"
   },
   "outputs": [
    {
     "data": {
      "text/plain": [
       "46"
      ]
     },
     "execution_count": 34,
     "metadata": {},
     "output_type": "execute_result"
    }
   ],
   "source": [
    "np.sum(y_ts==0) # total number of \"class 0\" samples in the test set"
   ]
  },
  {
   "cell_type": "markdown",
   "metadata": {
    "colab_type": "text",
    "id": "SoBqoaTGcDVy"
   },
   "source": [
    "Similarly for class 1, i.e., AP = All Positives = TP + FN:"
   ]
  },
  {
   "cell_type": "code",
   "execution_count": 35,
   "metadata": {
    "colab": {},
    "colab_type": "code",
    "id": "1PVj7JbxdVk0"
   },
   "outputs": [
    {
     "data": {
      "text/plain": [
       "90"
      ]
     },
     "execution_count": 35,
     "metadata": {},
     "output_type": "execute_result"
    }
   ],
   "source": [
    "np.sum(y_ts==1) # total number of \"class 1\" samples in the test set"
   ]
  },
  {
   "cell_type": "markdown",
   "metadata": {
    "colab_type": "text",
    "id": "kva3wkz5ddap"
   },
   "source": [
    "Compute the Accuracy, remembering/using the formula: \n",
    "\n",
    "ACC = (TN + TP) / (TN + TP + FN + FP)"
   ]
  },
  {
   "cell_type": "markdown",
   "metadata": {
    "colab_type": "text",
    "id": "pPjun--zd-nB"
   },
   "source": [
    "TN and TP are on the main diagonal of our conf Numpy array. The denominator is equivalent to the overall sample size."
   ]
  },
  {
   "cell_type": "code",
   "execution_count": 36,
   "metadata": {
    "colab": {},
    "colab_type": "code",
    "id": "-1-40TyQeAIt"
   },
   "outputs": [
    {
     "data": {
      "text/plain": [
       "0.8602941176470589"
      ]
     },
     "execution_count": 36,
     "metadata": {},
     "output_type": "execute_result"
    }
   ],
   "source": [
    "(conf[0,0] + conf[1,1])/y_ts.shape[0] # y_ts.shape[0] is the sample size of the test set"
   ]
  },
  {
   "cell_type": "markdown",
   "metadata": {
    "colab_type": "text",
    "id": "--3Q48hBfLoh"
   },
   "source": [
    "**Hint** : For clearer coding, you may want to assign variables to the elements of the confusion matrix. Here is an idea:"
   ]
  },
  {
   "cell_type": "code",
   "execution_count": 37,
   "metadata": {
    "colab": {},
    "colab_type": "code",
    "id": "q0emRGAvfWi4"
   },
   "outputs": [
    {
     "name": "stdout",
     "output_type": "stream",
     "text": [
      "0.8602941176470589\n"
     ]
    }
   ],
   "source": [
    "tp = conf[1,1]\n",
    "tn = conf[0,0]\n",
    "fp = conf[0,1]\n",
    "fn = conf[1,0]\n",
    "\n",
    "acc = (tn + tp) / (tn + tp + fn + fp)\n",
    "print(acc)"
   ]
  },
  {
   "cell_type": "markdown",
   "metadata": {
    "colab_type": "text",
    "id": "iqD0_lXneEJM"
   },
   "source": [
    "Now compute the Sensitivity.\n",
    "\n",
    "Remember the formula:\n",
    "\n",
    "SENS = TP / (TP + FN)"
   ]
  },
  {
   "cell_type": "code",
   "execution_count": 38,
   "metadata": {
    "colab": {},
    "colab_type": "code",
    "id": "a9JlR-LNe5ZI"
   },
   "outputs": [
    {
     "data": {
      "text/plain": [
       "1.0"
      ]
     },
     "execution_count": 38,
     "metadata": {},
     "output_type": "execute_result"
    }
   ],
   "source": [
    "conf[1,1] / (conf[1,1] + conf[1,0])"
   ]
  },
  {
   "cell_type": "markdown",
   "metadata": {
    "colab_type": "text",
    "id": "jcKt3dqwes-k"
   },
   "source": [
    "Computing metrics by hand is good, but what about a quicker option?"
   ]
  },
  {
   "cell_type": "markdown",
   "metadata": {
    "colab_type": "text",
    "id": "opG9Fe6EkI_b"
   },
   "source": [
    "As seen in the lectures, Scikit Learn offers a handy broad range of functions to evaluate your classifier through its submodule `metrics`.\n",
    "\n",
    "Let's compute the accuracy using the scikit-learn built-in function `accuracy_score`, taking as input the predicted labels (`y_pred_knn`) and the true labels (`y_ts`):\n",
    "\n",
    "`accuracy_score(y_pred_knn, y_ts)`"
   ]
  },
  {
   "cell_type": "code",
   "execution_count": 39,
   "metadata": {
    "colab": {},
    "colab_type": "code",
    "id": "3KeLJcCbkSo6"
   },
   "outputs": [
    {
     "data": {
      "text/plain": [
       "0.8602941176470589"
      ]
     },
     "execution_count": 39,
     "metadata": {},
     "output_type": "execute_result"
    }
   ],
   "source": [
    "from sklearn.metrics import accuracy_score\n",
    "accuracy_score(y_ts, y_pred_knn)"
   ]
  },
  {
   "cell_type": "markdown",
   "metadata": {
    "colab_type": "text",
    "id": "r7owZk6BmTVX"
   },
   "source": [
    "What about Sensitivity? The built-in function is called `recall_score`, as Recall is an alternate name for Sensitivity. Again, its input are the predicted and the true labels.\n"
   ]
  },
  {
   "cell_type": "code",
   "execution_count": 40,
   "metadata": {
    "colab": {},
    "colab_type": "code",
    "id": "MgfhssjZmsg3"
   },
   "outputs": [
    {
     "data": {
      "text/plain": [
       "1.0"
      ]
     },
     "execution_count": 40,
     "metadata": {},
     "output_type": "execute_result"
    }
   ],
   "source": [
    "from sklearn.metrics import recall_score\n",
    "recall_score(y_ts, y_pred_knn)"
   ]
  },
  {
   "cell_type": "markdown",
   "metadata": {
    "colab_type": "text",
    "id": "tX7AxXn4mxs_"
   },
   "source": [
    "Hint: if you plan to use more than a function from the `metrics` submodule, you may want to import the entire submodule. Then you would access its functions by prepending `metrics.` to the function name, like this:"
   ]
  },
  {
   "cell_type": "code",
   "execution_count": 41,
   "metadata": {
    "colab": {},
    "colab_type": "code",
    "id": "AKiUXIkPm-N3"
   },
   "outputs": [
    {
     "name": "stdout",
     "output_type": "stream",
     "text": [
      "0.8602941176470589\n",
      "1.0\n"
     ]
    }
   ],
   "source": [
    "from sklearn import metrics\n",
    "print(metrics.accuracy_score(y_ts, y_pred_knn))\n",
    "print(metrics.recall_score(y_ts, y_pred_knn))"
   ]
  },
  {
   "cell_type": "markdown",
   "metadata": {
    "colab_type": "text",
    "id": "8ysD26nCnTSg"
   },
   "source": [
    "Scikit-learn also provides a neat `metrics.classification_report` function that outputs a few metrics stratified by class:"
   ]
  },
  {
   "cell_type": "code",
   "execution_count": 42,
   "metadata": {
    "colab": {},
    "colab_type": "code",
    "id": "HXgvIJM2k3XQ",
    "outputId": "0d2d0773-a292-40cb-d8e7-df6b6ee29ff2"
   },
   "outputs": [
    {
     "name": "stdout",
     "output_type": "stream",
     "text": [
      "             precision    recall  f1-score   support\n",
      "\n",
      "          0       1.00      0.59      0.74        46\n",
      "          1       0.83      1.00      0.90        90\n",
      "\n",
      "avg / total       0.88      0.86      0.85       136\n",
      "\n"
     ]
    }
   ],
   "source": [
    "from sklearn import metrics\n",
    "print(metrics.classification_report(y_ts, y_pred_knn))"
   ]
  },
  {
   "cell_type": "markdown",
   "metadata": {
    "colab_type": "text",
    "id": "mqAX0k6UoeZh"
   },
   "source": [
    "Let's consider the Matthews Correlation Coefficient (MCC):"
   ]
  },
  {
   "cell_type": "markdown",
   "metadata": {
    "colab_type": "text",
    "id": "Dl82PZ0Zn5lN"
   },
   "source": [
    "![MCC formula](https://www.researchgate.net/profile/Pablo_Moscato/publication/223966631/figure/fig1/AS:305103086080001@1449753652505/Calculation-of-Matthews-Correlation-Coefficient-MCC-A-Contingency-matrix_W640.jpg)"
   ]
  },
  {
   "cell_type": "markdown",
   "metadata": {
    "colab_type": "text",
    "id": "4v0aWAAJrex-"
   },
   "source": [
    "*Q: Do you remember the main features of MCC?*"
   ]
  },
  {
   "cell_type": "markdown",
   "metadata": {
    "colab_type": "text",
    "id": "FDN2f1ZAoty0"
   },
   "source": [
    "In scikit-learn it is computed by the `metrics.matthews_corrcoef` function."
   ]
  },
  {
   "cell_type": "markdown",
   "metadata": {
    "colab_type": "text",
    "id": "ynxyEsfFk3XV"
   },
   "source": [
    "If we get the MCC for our kNN predictions, we can observe that it is in line with our *a priori* knowledge of the dataset (from the article):"
   ]
  },
  {
   "cell_type": "code",
   "execution_count": 43,
   "metadata": {
    "colab": {},
    "colab_type": "code",
    "id": "OuoRfictk3XW",
    "outputId": "9119acba-9d18-4076-eb3c-8346ba420579"
   },
   "outputs": [
    {
     "name": "stdout",
     "output_type": "stream",
     "text": [
      "0.6961630553262051\n"
     ]
    }
   ],
   "source": [
    "print(metrics.matthews_corrcoef(y_ts, y_pred_knn))"
   ]
  },
  {
   "cell_type": "markdown",
   "metadata": {
    "colab_type": "text",
    "id": "HtPbufFSpSxL"
   },
   "source": [
    "*Compare the metrics that you computed so far. What can you say about this classification task? Does the classifier learn something?*"
   ]
  },
  {
   "cell_type": "markdown",
   "metadata": {
    "colab_type": "text",
    "id": "-d0e4tAbs7tP"
   },
   "source": [
    "The metrics may look good (e.g., accuracy around 0.8, MCC above 0.6) but...\n",
    "\n",
    "... how do you know if this model performs similarly well on unseen data?\n",
    "\n",
    "In other words, does this model *generalize* beyond its training set?\n",
    "\n",
    "This is why *data partitioning* techniques are used."
   ]
  },
  {
   "cell_type": "markdown",
   "metadata": {
    "colab_type": "text",
    "id": "13LEke6Js720"
   },
   "source": [
    "## Data partitioning"
   ]
  },
  {
   "cell_type": "markdown",
   "metadata": {
    "colab_type": "text",
    "id": "-IIhs_0Exo1B"
   },
   "source": [
    "### Hold-out strategy\n",
    "\n",
    "The idea behind data partitioning is to split your original data set into a **train** portion (for developing your machine learning model) and a **test** portion (for evaluating the performance of the trained model).\n",
    "\n",
    "The simplest and most straightforward way to partition your data set is to randomly split it in two groups (*hold-out strategy*).\n",
    "\n",
    "\n",
    "---\n",
    "\n",
    "\n",
    "\"But we already have a dataset split into train and test!\", you may object.\n",
    "\n",
    "Well, the data was previously split into balanced train and test sets of 136 samples each. This is somewhat different from the 80/20 train/test split we mentioned in the lecture. In fact, this specific data split was created ad-hoc during the article preparation to ensure balance in the various clinical characteristics of the neuroblastoma samples represented (e.g. MYCN amplification status, INSS tumor staging, … Full details are reported in the article).\n",
    "\n",
    "For the sake of this tutorial, we will further split the neuroblastoma train set into two subsets.\n",
    "\n",
    "\n",
    "---\n",
    "\n",
    "\n",
    "You achieve this using scikit-learn's function `train_test_split`, in the `model_selection` submodule.\n",
    "\n",
    "For example, let's split the data (x_tr) into 80% train and 20% test (note the argument `test_size=0.2`)"
   ]
  },
  {
   "cell_type": "code",
   "execution_count": 44,
   "metadata": {
    "colab": {},
    "colab_type": "code",
    "id": "tqbLHGVP2cAH"
   },
   "outputs": [],
   "source": [
    "from sklearn.model_selection import train_test_split\n",
    "X_train, X_test, y_train, y_test = train_test_split(x_tr, y_tr, test_size=0.2, random_state=1)"
   ]
  },
  {
   "cell_type": "markdown",
   "metadata": {
    "colab_type": "text",
    "id": "TOKwQzhK8tVY"
   },
   "source": [
    "\n",
    "\n",
    "---\n",
    "\n",
    "What is the random_state?\n",
    "\n",
    "Whenever randomness is involved in a computer program, we need to rely on some sort of workaround because computers follow their instructions blindly and they are therefore completely predictable.\n",
    "\n",
    "One approach relies on *Pseudo-Random Number Generators* (PRNGs). \n",
    "\n",
    "PNRGs are algorithms that use mathematical formulas or precalculated tables to produce sequences of numbers that appear random. \n",
    "\n",
    "PNRGs are initialized by a *seed* (an integer), so that *the same seed yields the same sequence of pseudo-random numbers*. This is useful for reproduciblity.\n",
    "\n",
    "\n",
    "---\n",
    "\n"
   ]
  },
  {
   "cell_type": "markdown",
   "metadata": {
    "colab_type": "text",
    "id": "le9GlyN3xo9x"
   },
   "source": [
    "*Now, retrain a kNN model on X_train and evaluate its performance on X_test. Try using different random states for data splitting.*"
   ]
  },
  {
   "cell_type": "code",
   "execution_count": 45,
   "metadata": {
    "colab": {},
    "colab_type": "code",
    "id": "n12boA3k3Neo"
   },
   "outputs": [
    {
     "name": "stdout",
     "output_type": "stream",
     "text": [
      "Accuracy = 0.750\n",
      "MCC = 0.538\n"
     ]
    }
   ],
   "source": [
    "from sklearn import metrics\n",
    "knn = neighbors.KNeighborsClassifier(n_neighbors=10)\n",
    "knn.fit(X_train, y_train)\n",
    "y_pred_knn = knn.predict(X_test)\n",
    "acc = metrics.accuracy_score(y_test, y_pred_knn)\n",
    "mcc = metrics.matthews_corrcoef(y_test, y_pred_knn)\n",
    "\n",
    "print(f\"Accuracy = {acc:.3f}\")\n",
    "print(f\"MCC = {mcc:.3f}\")"
   ]
  },
  {
   "cell_type": "markdown",
   "metadata": {
    "colab_type": "text",
    "id": "rqkAcvnpxpCx"
   },
   "source": [
    "### Cross-validation"
   ]
  },
  {
   "cell_type": "markdown",
   "metadata": {
    "colab_type": "text",
    "id": "NqrxSWmp8Zg5"
   },
   "source": [
    "Partitioning the dataset once in training/test is not enough. As you may have seen, the results are fairly dependent on the random seed that was used in the splitting function.\n",
    "\n",
    "Other strategies involve splitting the data in **multiple (complementary) subsets**.\n",
    "\n",
    "During the lecture we introduced the k-fold cross-validation:"
   ]
  },
  {
   "cell_type": "markdown",
   "metadata": {
    "colab_type": "text",
    "id": "jnBd81Sk35QM"
   },
   "source": [
    "![k-fold cv](https://www.researchgate.net/profile/B_Aksasse/publication/326866871/figure/fig2/AS:669601385947145@1536656819574/K-fold-cross-validation-In-addition-we-outline-an-overview-of-the-different-metrics-used_W640.jpg)"
   ]
  },
  {
   "cell_type": "markdown",
   "metadata": {
    "colab_type": "text",
    "id": "rmolsnknM8cS"
   },
   "source": [
    "Example of a 5-fold cross-validation (CV) with scikit-learn:"
   ]
  },
  {
   "cell_type": "code",
   "execution_count": 46,
   "metadata": {
    "colab": {},
    "colab_type": "code",
    "id": "551-qJzL8WKh"
   },
   "outputs": [],
   "source": [
    "from sklearn.model_selection import StratifiedKFold\n",
    "skf = StratifiedKFold(n_splits=5, shuffle=True, random_state=42)"
   ]
  },
  {
   "cell_type": "markdown",
   "metadata": {
    "colab_type": "text",
    "id": "rMmmyxp5NX4P"
   },
   "source": [
    "A \"stratified\" 5-fold CV means that the folds are made by preserving the percentage of samples for each class."
   ]
  },
  {
   "cell_type": "markdown",
   "metadata": {
    "colab_type": "text",
    "id": "H_VtvZEINnE6"
   },
   "source": [
    "To actually get the splitting indices and create the folds, we need to iterate over the `skf` object:"
   ]
  },
  {
   "cell_type": "code",
   "execution_count": 48,
   "metadata": {
    "colab": {},
    "colab_type": "code",
    "id": "-uoahY6yNcIv"
   },
   "outputs": [
    {
     "name": "stdout",
     "output_type": "stream",
     "text": [
      "### Fold 1 / 5 ###\n",
      "TRAIN size: 108\n",
      "-- class 0: 36 class 1: 72\n",
      "TEST size: 28\n",
      "-- class 0: 9 class 1: 19\n",
      "\n",
      "Model performance\n",
      "Accuracy on TEST set: 0.929\n",
      "MCC on TEST set: 0.839\n",
      "\n",
      "### Fold 2 / 5 ###\n",
      "TRAIN size: 109\n",
      "-- class 0: 36 class 1: 73\n",
      "TEST size: 27\n",
      "-- class 0: 9 class 1: 18\n",
      "\n",
      "Model performance\n",
      "Accuracy on TEST set: 0.852\n",
      "MCC on TEST set: 0.674\n",
      "\n",
      "### Fold 3 / 5 ###\n",
      "TRAIN size: 109\n",
      "-- class 0: 36 class 1: 73\n",
      "TEST size: 27\n",
      "-- class 0: 9 class 1: 18\n",
      "\n",
      "Model performance\n",
      "Accuracy on TEST set: 0.815\n",
      "MCC on TEST set: 0.567\n",
      "\n",
      "### Fold 4 / 5 ###\n",
      "TRAIN size: 109\n",
      "-- class 0: 36 class 1: 73\n",
      "TEST size: 27\n",
      "-- class 0: 9 class 1: 18\n",
      "\n",
      "Model performance\n",
      "Accuracy on TEST set: 0.815\n",
      "MCC on TEST set: 0.590\n",
      "\n",
      "### Fold 5 / 5 ###\n",
      "TRAIN size: 109\n",
      "-- class 0: 36 class 1: 73\n",
      "TEST size: 27\n",
      "-- class 0: 9 class 1: 18\n",
      "\n",
      "Model performance\n",
      "Accuracy on TEST set: 0.926\n",
      "MCC on TEST set: 0.837\n",
      "\n"
     ]
    }
   ],
   "source": [
    "## get the number of splitting operations\n",
    "N = skf.get_n_splits(x_tr, y_tr)\n",
    "\n",
    "## reinitialize a kNN classifier\n",
    "knn = neighbors.KNeighborsClassifier(n_neighbors=10)\n",
    "\n",
    "## create empty lists to store the CV metrics\n",
    "acc_list = []\n",
    "mcc_list = []\n",
    "\n",
    "## split data and iterate over the splits,\n",
    "## computing kNN accuracy & MCC on each test partition\n",
    "i = 1\n",
    "for (idx_tr, idx_ts) in skf.split(x_tr, y_tr):\n",
    "    print(f\"### Fold {i} / {N:d} ###\")\n",
    "    X_train, Y_train = x_tr[idx_tr], y_tr[idx_tr]\n",
    "    X_test, Y_test = x_tr[idx_ts], y_tr[idx_ts]\n",
    "    print(\"TRAIN size:\", X_train.shape[0])\n",
    "    print(\"-- class 0:\", np.sum(Y_train==0), \"class 1:\", np.sum(Y_train==1))\n",
    "    print(\"TEST size:\", X_test.shape[0])\n",
    "    print(\"-- class 0:\", np.sum(Y_test==0), \"class 1:\", np.sum(Y_test==1))\n",
    "    print()\n",
    "    print(\"Model performance\")\n",
    "    knn.fit(X_train, Y_train)\n",
    "    Y_test_pred = knn.predict(X_test)\n",
    "    acc = metrics.accuracy_score(Y_test, Y_test_pred)\n",
    "    mcc = metrics.matthews_corrcoef(Y_test, Y_test_pred)\n",
    "    print(f\"Accuracy on TEST set: {acc:.3f}\")\n",
    "    print(f\"MCC on TEST set: {mcc:.3f}\")\n",
    "    print()\n",
    "    ## append values to lists\n",
    "    acc_list.append(acc)\n",
    "    mcc_list.append(mcc)\n",
    "    \n",
    "    i = i + 1"
   ]
  },
  {
   "cell_type": "markdown",
   "metadata": {},
   "source": [
    "*Q: how are the computed metrics on the different folds?*"
   ]
  },
  {
   "cell_type": "markdown",
   "metadata": {},
   "source": [
    "To get an estimate of the predictive performance of our model, we can average over the cross-validation metrics."
   ]
  },
  {
   "cell_type": "code",
   "execution_count": 49,
   "metadata": {},
   "outputs": [
    {
     "name": "stdout",
     "output_type": "stream",
     "text": [
      "Average cross-validation accuracy: 0.867\n",
      "Average cross-validation MCC: 0.701\n"
     ]
    }
   ],
   "source": [
    "## note: we need to convert the lists to numpy arrays before computing the means\n",
    "acc_avg = np.mean(np.array(acc_list))\n",
    "mcc_avg = np.mean(np.array(mcc_list))\n",
    "\n",
    "print(f\"Average cross-validation accuracy: {acc_avg:.3f}\")\n",
    "print(f\"Average cross-validation MCC: {mcc_avg:.3f}\")"
   ]
  },
  {
   "cell_type": "markdown",
   "metadata": {},
   "source": [
    "To have an even better estimate of how the model can generalize on new data, you can repeat the CV several times. Each time you will use a different seed for generating the splits. Let's see an example with 10 iterations:"
   ]
  },
  {
   "cell_type": "code",
   "execution_count": 50,
   "metadata": {
    "colab": {},
    "colab_type": "code",
    "id": "-uoahY6yNcIv"
   },
   "outputs": [
    {
     "name": "stdout",
     "output_type": "stream",
     "text": [
      "### Iteration 1 ###\n",
      "### Iteration 2 ###\n",
      "### Iteration 3 ###\n",
      "### Iteration 4 ###\n",
      "### Iteration 5 ###\n",
      "### Iteration 6 ###\n",
      "### Iteration 7 ###\n",
      "### Iteration 8 ###\n",
      "### Iteration 9 ###\n",
      "### Iteration 10 ###\n"
     ]
    }
   ],
   "source": [
    "## how many repetitions?\n",
    "N_CV = 10\n",
    "\n",
    "## create empty lists to store the CV metrics\n",
    "acc_list = []\n",
    "mcc_list = []\n",
    "\n",
    "for i_cv in range(N_CV):\n",
    "    \n",
    "    print(f\"### Iteration {i_cv+1} ###\")\n",
    "    ## create a CV object\n",
    "    skf = StratifiedKFold(n_splits=5, shuffle=True, random_state=i_cv)\n",
    "    \n",
    "    ## reinitialize a kNN classifier\n",
    "    knn = neighbors.KNeighborsClassifier(n_neighbors=10)\n",
    "\n",
    "    ## split data and iterate over the splits,\n",
    "    ## computing kNN accuracy & MCC on each test partition\n",
    "    for i, (idx_tr, idx_ts) in enumerate(skf.split(x_tr, y_tr)):\n",
    "        X_train, Y_train = x_tr[idx_tr], y_tr[idx_tr]\n",
    "        X_test, Y_test = x_tr[idx_ts], y_tr[idx_ts]\n",
    "        knn.fit(X_train, Y_train)\n",
    "        Y_test_pred = knn.predict(X_test)\n",
    "        acc = metrics.accuracy_score(Y_test, Y_test_pred)\n",
    "        mcc = metrics.matthews_corrcoef(Y_test, Y_test_pred)\n",
    "        ## append values to lists\n",
    "        acc_list.append(acc)\n",
    "        mcc_list.append(mcc)\n"
   ]
  },
  {
   "cell_type": "markdown",
   "metadata": {},
   "source": [
    "Now recompute the average values across all rounds of cross-validation:"
   ]
  },
  {
   "cell_type": "code",
   "execution_count": 52,
   "metadata": {},
   "outputs": [
    {
     "name": "stdout",
     "output_type": "stream",
     "text": [
      "Average cross-validation accuracy: 0.854\n",
      "Average cross-validation MCC: 0.670\n"
     ]
    }
   ],
   "source": [
    "## note: we need to convert the lists to numpy arrays before computing the means\n",
    "acc_avg = np.mean(np.array(acc_list))\n",
    "mcc_avg = np.mean(np.array(mcc_list))\n",
    "\n",
    "print(f\"Average cross-validation accuracy: {acc_avg:.3f}\")\n",
    "print(f\"Average cross-validation MCC: {mcc_avg:.3f}\")"
   ]
  },
  {
   "cell_type": "markdown",
   "metadata": {},
   "source": [
    "*Average values are informative, but you also need to compute standard deviations and/or confidence intervals in order to get a complete summary of the metrics distribution across the CV rounds.*\n",
    "\n",
    "*For example, compute the standard deviations for the accuracies and MCCs (Numpy's `std` function).* "
   ]
  },
  {
   "cell_type": "markdown",
   "metadata": {},
   "source": [
    "What now? All of this was needed to have an estimate of the model performance, or in other terms an estimate of the generalization capability of the model.\n",
    "\n",
    "You can now quantify your model performance in terms of average cross-validation accuracy / MCC / etc. , also with confidence intervals or standard deviations."
   ]
  }
 ],
 "metadata": {
  "colab": {
   "collapsed_sections": [],
   "name": "practical_neuroblastoma_partI_v0.2.ipynb",
   "provenance": [],
   "version": "0.3.2"
  },
  "kernelspec": {
   "display_name": "Python 3",
   "language": "python",
   "name": "python3"
  },
  "language_info": {
   "codemirror_mode": {
    "name": "ipython",
    "version": 3
   },
   "file_extension": ".py",
   "mimetype": "text/x-python",
   "name": "python",
   "nbconvert_exporter": "python",
   "pygments_lexer": "ipython3",
   "version": "3.6.5"
  }
 },
 "nbformat": 4,
 "nbformat_minor": 1
}
